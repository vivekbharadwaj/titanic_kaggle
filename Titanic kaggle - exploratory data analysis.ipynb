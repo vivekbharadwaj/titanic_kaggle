{
 "cells": [
  {
   "cell_type": "markdown",
   "metadata": {},
   "source": [
    "# Survival analysis of Titanic training dataset - EDA"
   ]
  },
  {
   "cell_type": "markdown",
   "metadata": {},
   "source": [
    "## Summary of  findings\n",
    "There are three types of peoples in the world. One who does not believe in any form of flattery and the other, who considers flattery to be the biggest excitement in the world.\n",
    "\n",
    "Admin stuff - add titles, axes and legends for all plots."
   ]
  },
  {
   "cell_type": "markdown",
   "metadata": {},
   "source": [
    "## Setup code"
   ]
  },
  {
   "cell_type": "code",
   "execution_count": 1,
   "metadata": {
    "collapsed": false
   },
   "outputs": [
    {
     "name": "stderr",
     "output_type": "stream",
     "text": [
      "/Users/Vivek/anaconda/envs/titanic_kaggle/lib/python2.7/site-packages/IPython/html.py:14: ShimWarning: The `IPython.html` package has been deprecated. You should import from `notebook` instead. `IPython.html.widgets` has moved to `ipywidgets`.\n",
      "  \"`IPython.html.widgets` has moved to `ipywidgets`.\", ShimWarning)\n"
     ]
    }
   ],
   "source": [
    "%matplotlib inline\n",
    "import pandas as pd\n",
    "import numpy as np\n",
    "import pylab as plt\n",
    "import seaborn\n",
    "\n",
    "# Set the global default size of matplotlib figures\n",
    "#plt.rc('figure', figsize=(10, 5))\n",
    "\n",
    "# Set seaborn aesthetic parameters to defaults\n",
    "seaborn.set()"
   ]
  },
  {
   "cell_type": "markdown",
   "metadata": {},
   "source": [
    "## Data exploration and cleanup"
   ]
  },
  {
   "cell_type": "markdown",
   "metadata": {},
   "source": [
    "### Making sense of the data"
   ]
  },
  {
   "cell_type": "code",
   "execution_count": 2,
   "metadata": {
    "collapsed": false
   },
   "outputs": [],
   "source": [
    "# reading the dataset\n",
    "train = pd.read_csv(\"train.csv\")"
   ]
  },
  {
   "cell_type": "markdown",
   "metadata": {},
   "source": [
    "#### Basic idea about the dataset"
   ]
  },
  {
   "cell_type": "code",
   "execution_count": 3,
   "metadata": {
    "collapsed": false
   },
   "outputs": [
    {
     "name": "stdout",
     "output_type": "stream",
     "text": [
      "the variable train is of data type  <class 'pandas.core.frame.DataFrame'>\n",
      "\n",
      "this dataset has the following dimensions (891, 12)\n",
      "\n"
     ]
    },
    {
     "data": {
      "text/html": [
       "<div>\n",
       "<table border=\"1\" class=\"dataframe\">\n",
       "  <thead>\n",
       "    <tr style=\"text-align: right;\">\n",
       "      <th></th>\n",
       "      <th>0</th>\n",
       "    </tr>\n",
       "  </thead>\n",
       "  <tbody>\n",
       "    <tr>\n",
       "      <th>0</th>\n",
       "      <td>PassengerId</td>\n",
       "    </tr>\n",
       "    <tr>\n",
       "      <th>1</th>\n",
       "      <td>Survived</td>\n",
       "    </tr>\n",
       "    <tr>\n",
       "      <th>2</th>\n",
       "      <td>Pclass</td>\n",
       "    </tr>\n",
       "    <tr>\n",
       "      <th>3</th>\n",
       "      <td>Name</td>\n",
       "    </tr>\n",
       "    <tr>\n",
       "      <th>4</th>\n",
       "      <td>Sex</td>\n",
       "    </tr>\n",
       "    <tr>\n",
       "      <th>5</th>\n",
       "      <td>Age</td>\n",
       "    </tr>\n",
       "    <tr>\n",
       "      <th>6</th>\n",
       "      <td>SibSp</td>\n",
       "    </tr>\n",
       "    <tr>\n",
       "      <th>7</th>\n",
       "      <td>Parch</td>\n",
       "    </tr>\n",
       "    <tr>\n",
       "      <th>8</th>\n",
       "      <td>Ticket</td>\n",
       "    </tr>\n",
       "    <tr>\n",
       "      <th>9</th>\n",
       "      <td>Fare</td>\n",
       "    </tr>\n",
       "    <tr>\n",
       "      <th>10</th>\n",
       "      <td>Cabin</td>\n",
       "    </tr>\n",
       "    <tr>\n",
       "      <th>11</th>\n",
       "      <td>Embarked</td>\n",
       "    </tr>\n",
       "  </tbody>\n",
       "</table>\n",
       "</div>"
      ],
      "text/plain": [
       "              0\n",
       "0   PassengerId\n",
       "1      Survived\n",
       "2        Pclass\n",
       "3          Name\n",
       "4           Sex\n",
       "5           Age\n",
       "6         SibSp\n",
       "7         Parch\n",
       "8        Ticket\n",
       "9          Fare\n",
       "10        Cabin\n",
       "11     Embarked"
      ]
     },
     "execution_count": 3,
     "metadata": {},
     "output_type": "execute_result"
    }
   ],
   "source": [
    "print \"the variable train is of data type \", type (train)\n",
    "print\n",
    "print \"this dataset has the following dimensions\", train.shape\n",
    "print\n",
    "pd.DataFrame(train.columns)"
   ]
  },
  {
   "cell_type": "code",
   "execution_count": 4,
   "metadata": {
    "collapsed": false
   },
   "outputs": [
    {
     "name": "stdout",
     "output_type": "stream",
     "text": [
      "['PassengerId', 'Survived', 'Pclass', 'Name', 'Sex', 'Age', 'SiblingsOrSpouse', 'ParentsOrChildren', 'Ticket', 'Fare', 'Cabin', 'Embarked']\n",
      "\n"
     ]
    },
    {
     "data": {
      "text/html": [
       "<div>\n",
       "<table border=\"1\" class=\"dataframe\">\n",
       "  <thead>\n",
       "    <tr style=\"text-align: right;\">\n",
       "      <th></th>\n",
       "      <th>PassengerId</th>\n",
       "      <th>Survived</th>\n",
       "      <th>Pclass</th>\n",
       "      <th>Name</th>\n",
       "      <th>Sex</th>\n",
       "      <th>Age</th>\n",
       "      <th>SiblingsOrSpouse</th>\n",
       "      <th>ParentsOrChildren</th>\n",
       "      <th>Ticket</th>\n",
       "      <th>Fare</th>\n",
       "      <th>Cabin</th>\n",
       "      <th>Embarked</th>\n",
       "    </tr>\n",
       "  </thead>\n",
       "  <tbody>\n",
       "    <tr>\n",
       "      <th>0</th>\n",
       "      <td>1</td>\n",
       "      <td>0</td>\n",
       "      <td>3</td>\n",
       "      <td>Braund, Mr. Owen Harris</td>\n",
       "      <td>male</td>\n",
       "      <td>22.0</td>\n",
       "      <td>1</td>\n",
       "      <td>0</td>\n",
       "      <td>A/5 21171</td>\n",
       "      <td>7.2500</td>\n",
       "      <td>NaN</td>\n",
       "      <td>S</td>\n",
       "    </tr>\n",
       "    <tr>\n",
       "      <th>1</th>\n",
       "      <td>2</td>\n",
       "      <td>1</td>\n",
       "      <td>1</td>\n",
       "      <td>Cumings, Mrs. John Bradley (Florence Briggs Th...</td>\n",
       "      <td>female</td>\n",
       "      <td>38.0</td>\n",
       "      <td>1</td>\n",
       "      <td>0</td>\n",
       "      <td>PC 17599</td>\n",
       "      <td>71.2833</td>\n",
       "      <td>C85</td>\n",
       "      <td>C</td>\n",
       "    </tr>\n",
       "    <tr>\n",
       "      <th>2</th>\n",
       "      <td>3</td>\n",
       "      <td>1</td>\n",
       "      <td>3</td>\n",
       "      <td>Heikkinen, Miss. Laina</td>\n",
       "      <td>female</td>\n",
       "      <td>26.0</td>\n",
       "      <td>0</td>\n",
       "      <td>0</td>\n",
       "      <td>STON/O2. 3101282</td>\n",
       "      <td>7.9250</td>\n",
       "      <td>NaN</td>\n",
       "      <td>S</td>\n",
       "    </tr>\n",
       "    <tr>\n",
       "      <th>3</th>\n",
       "      <td>4</td>\n",
       "      <td>1</td>\n",
       "      <td>1</td>\n",
       "      <td>Futrelle, Mrs. Jacques Heath (Lily May Peel)</td>\n",
       "      <td>female</td>\n",
       "      <td>35.0</td>\n",
       "      <td>1</td>\n",
       "      <td>0</td>\n",
       "      <td>113803</td>\n",
       "      <td>53.1000</td>\n",
       "      <td>C123</td>\n",
       "      <td>S</td>\n",
       "    </tr>\n",
       "    <tr>\n",
       "      <th>4</th>\n",
       "      <td>5</td>\n",
       "      <td>0</td>\n",
       "      <td>3</td>\n",
       "      <td>Allen, Mr. William Henry</td>\n",
       "      <td>male</td>\n",
       "      <td>35.0</td>\n",
       "      <td>0</td>\n",
       "      <td>0</td>\n",
       "      <td>373450</td>\n",
       "      <td>8.0500</td>\n",
       "      <td>NaN</td>\n",
       "      <td>S</td>\n",
       "    </tr>\n",
       "  </tbody>\n",
       "</table>\n",
       "</div>"
      ],
      "text/plain": [
       "   PassengerId  Survived  Pclass  \\\n",
       "0            1         0       3   \n",
       "1            2         1       1   \n",
       "2            3         1       3   \n",
       "3            4         1       1   \n",
       "4            5         0       3   \n",
       "\n",
       "                                                Name     Sex   Age  \\\n",
       "0                            Braund, Mr. Owen Harris    male  22.0   \n",
       "1  Cumings, Mrs. John Bradley (Florence Briggs Th...  female  38.0   \n",
       "2                             Heikkinen, Miss. Laina  female  26.0   \n",
       "3       Futrelle, Mrs. Jacques Heath (Lily May Peel)  female  35.0   \n",
       "4                           Allen, Mr. William Henry    male  35.0   \n",
       "\n",
       "   SiblingsOrSpouse  ParentsOrChildren            Ticket     Fare Cabin  \\\n",
       "0                 1                  0         A/5 21171   7.2500   NaN   \n",
       "1                 1                  0          PC 17599  71.2833   C85   \n",
       "2                 0                  0  STON/O2. 3101282   7.9250   NaN   \n",
       "3                 1                  0            113803  53.1000  C123   \n",
       "4                 0                  0            373450   8.0500   NaN   \n",
       "\n",
       "  Embarked  \n",
       "0        S  \n",
       "1        C  \n",
       "2        S  \n",
       "3        S  \n",
       "4        S  "
      ]
     },
     "execution_count": 4,
     "metadata": {},
     "output_type": "execute_result"
    }
   ],
   "source": [
    "# renaming \"Parch\" field to \"ParentsOrChildren\"\n",
    "train.rename(columns = {train.columns[7]:'ParentsOrChildren'},inplace=True)\n",
    "train.rename(columns = {train.columns[6]:'SiblingsOrSpouse'},inplace=True)\n",
    "print train.columns.tolist()\n",
    "print\n",
    "# explicitly ask to display all 12 columns. this is useful for datasets that have more columns than the page width. \n",
    "pd.set_option('display.max_columns', 12)\n",
    "train.head(5)"
   ]
  },
  {
   "cell_type": "code",
   "execution_count": 5,
   "metadata": {
    "collapsed": false
   },
   "outputs": [
    {
     "name": "stderr",
     "output_type": "stream",
     "text": [
      "/Users/Vivek/anaconda/envs/titanic_kaggle/lib/python2.7/site-packages/numpy/lib/function_base.py:3834: RuntimeWarning: Invalid value encountered in percentile\n",
      "  RuntimeWarning)\n"
     ]
    },
    {
     "data": {
      "text/html": [
       "<div>\n",
       "<table border=\"1\" class=\"dataframe\">\n",
       "  <thead>\n",
       "    <tr style=\"text-align: right;\">\n",
       "      <th></th>\n",
       "      <th>PassengerId</th>\n",
       "      <th>Survived</th>\n",
       "      <th>Pclass</th>\n",
       "      <th>Age</th>\n",
       "      <th>SiblingsOrSpouse</th>\n",
       "      <th>ParentsOrChildren</th>\n",
       "      <th>Fare</th>\n",
       "    </tr>\n",
       "  </thead>\n",
       "  <tbody>\n",
       "    <tr>\n",
       "      <th>count</th>\n",
       "      <td>891.000000</td>\n",
       "      <td>891.000000</td>\n",
       "      <td>891.000000</td>\n",
       "      <td>714.000000</td>\n",
       "      <td>891.000000</td>\n",
       "      <td>891.000000</td>\n",
       "      <td>891.000000</td>\n",
       "    </tr>\n",
       "    <tr>\n",
       "      <th>mean</th>\n",
       "      <td>446.000000</td>\n",
       "      <td>0.383838</td>\n",
       "      <td>2.308642</td>\n",
       "      <td>29.699118</td>\n",
       "      <td>0.523008</td>\n",
       "      <td>0.381594</td>\n",
       "      <td>32.204208</td>\n",
       "    </tr>\n",
       "    <tr>\n",
       "      <th>std</th>\n",
       "      <td>257.353842</td>\n",
       "      <td>0.486592</td>\n",
       "      <td>0.836071</td>\n",
       "      <td>14.526497</td>\n",
       "      <td>1.102743</td>\n",
       "      <td>0.806057</td>\n",
       "      <td>49.693429</td>\n",
       "    </tr>\n",
       "    <tr>\n",
       "      <th>min</th>\n",
       "      <td>1.000000</td>\n",
       "      <td>0.000000</td>\n",
       "      <td>1.000000</td>\n",
       "      <td>0.420000</td>\n",
       "      <td>0.000000</td>\n",
       "      <td>0.000000</td>\n",
       "      <td>0.000000</td>\n",
       "    </tr>\n",
       "    <tr>\n",
       "      <th>25%</th>\n",
       "      <td>223.500000</td>\n",
       "      <td>0.000000</td>\n",
       "      <td>2.000000</td>\n",
       "      <td>NaN</td>\n",
       "      <td>0.000000</td>\n",
       "      <td>0.000000</td>\n",
       "      <td>7.910400</td>\n",
       "    </tr>\n",
       "    <tr>\n",
       "      <th>50%</th>\n",
       "      <td>446.000000</td>\n",
       "      <td>0.000000</td>\n",
       "      <td>3.000000</td>\n",
       "      <td>NaN</td>\n",
       "      <td>0.000000</td>\n",
       "      <td>0.000000</td>\n",
       "      <td>14.454200</td>\n",
       "    </tr>\n",
       "    <tr>\n",
       "      <th>75%</th>\n",
       "      <td>668.500000</td>\n",
       "      <td>1.000000</td>\n",
       "      <td>3.000000</td>\n",
       "      <td>NaN</td>\n",
       "      <td>1.000000</td>\n",
       "      <td>0.000000</td>\n",
       "      <td>31.000000</td>\n",
       "    </tr>\n",
       "    <tr>\n",
       "      <th>max</th>\n",
       "      <td>891.000000</td>\n",
       "      <td>1.000000</td>\n",
       "      <td>3.000000</td>\n",
       "      <td>80.000000</td>\n",
       "      <td>8.000000</td>\n",
       "      <td>6.000000</td>\n",
       "      <td>512.329200</td>\n",
       "    </tr>\n",
       "  </tbody>\n",
       "</table>\n",
       "</div>"
      ],
      "text/plain": [
       "       PassengerId    Survived      Pclass         Age  SiblingsOrSpouse  \\\n",
       "count   891.000000  891.000000  891.000000  714.000000        891.000000   \n",
       "mean    446.000000    0.383838    2.308642   29.699118          0.523008   \n",
       "std     257.353842    0.486592    0.836071   14.526497          1.102743   \n",
       "min       1.000000    0.000000    1.000000    0.420000          0.000000   \n",
       "25%     223.500000    0.000000    2.000000         NaN          0.000000   \n",
       "50%     446.000000    0.000000    3.000000         NaN          0.000000   \n",
       "75%     668.500000    1.000000    3.000000         NaN          1.000000   \n",
       "max     891.000000    1.000000    3.000000   80.000000          8.000000   \n",
       "\n",
       "       ParentsOrChildren        Fare  \n",
       "count         891.000000  891.000000  \n",
       "mean            0.381594   32.204208  \n",
       "std             0.806057   49.693429  \n",
       "min             0.000000    0.000000  \n",
       "25%             0.000000    7.910400  \n",
       "50%             0.000000   14.454200  \n",
       "75%             0.000000   31.000000  \n",
       "max             6.000000  512.329200  "
      ]
     },
     "execution_count": 5,
     "metadata": {},
     "output_type": "execute_result"
    }
   ],
   "source": [
    "# get some understanding of the numeric variables\n",
    "train.describe()"
   ]
  },
  {
   "cell_type": "markdown",
   "metadata": {},
   "source": [
    "**Observations** - \n",
    "1. Age has only 714 values. Also pretty young crowd in the Titanic with 75% of people less than 38.\n",
    "2. Only 38.38% survival\n",
    "3. More than 50% people were in the 3rd class\n",
    "4. Most people don't have any parents or children - 75% have 0\n",
    "5. Some people freeloaded into the Titanic i.e. 0 fare, while 75% have paid \\$31 or less. So the max number \\$512 is clearly an outlier or a mistake.\n",
    "6. Obviously, passengerid, survived and Pclass are not numbers. need to fix this in a data munging step. "
   ]
  },
  {
   "cell_type": "markdown",
   "metadata": {},
   "source": [
    "### Data cleanup and quick checks\n",
    "Age has 177 missing values. Factors such as Passengerid, survived, Pclass are being considered as numbers. Gotta clean all this up!"
   ]
  },
  {
   "cell_type": "code",
   "execution_count": 6,
   "metadata": {
    "collapsed": false
   },
   "outputs": [
    {
     "name": "stdout",
     "output_type": "stream",
     "text": [
      "median age is 28.0\n"
     ]
    },
    {
     "data": {
      "text/html": [
       "<div>\n",
       "<table border=\"1\" class=\"dataframe\">\n",
       "  <thead>\n",
       "    <tr style=\"text-align: right;\">\n",
       "      <th></th>\n",
       "      <th>Age</th>\n",
       "      <th>SiblingsOrSpouse</th>\n",
       "      <th>ParentsOrChildren</th>\n",
       "      <th>Fare</th>\n",
       "      <th>Age_filled</th>\n",
       "    </tr>\n",
       "  </thead>\n",
       "  <tbody>\n",
       "    <tr>\n",
       "      <th>count</th>\n",
       "      <td>714.000000</td>\n",
       "      <td>891.000000</td>\n",
       "      <td>891.000000</td>\n",
       "      <td>891.000000</td>\n",
       "      <td>891.000000</td>\n",
       "    </tr>\n",
       "    <tr>\n",
       "      <th>mean</th>\n",
       "      <td>29.699118</td>\n",
       "      <td>0.523008</td>\n",
       "      <td>0.381594</td>\n",
       "      <td>32.204208</td>\n",
       "      <td>29.361582</td>\n",
       "    </tr>\n",
       "    <tr>\n",
       "      <th>std</th>\n",
       "      <td>14.526497</td>\n",
       "      <td>1.102743</td>\n",
       "      <td>0.806057</td>\n",
       "      <td>49.693429</td>\n",
       "      <td>13.019697</td>\n",
       "    </tr>\n",
       "    <tr>\n",
       "      <th>min</th>\n",
       "      <td>0.420000</td>\n",
       "      <td>0.000000</td>\n",
       "      <td>0.000000</td>\n",
       "      <td>0.000000</td>\n",
       "      <td>0.420000</td>\n",
       "    </tr>\n",
       "    <tr>\n",
       "      <th>25%</th>\n",
       "      <td>NaN</td>\n",
       "      <td>0.000000</td>\n",
       "      <td>0.000000</td>\n",
       "      <td>7.910400</td>\n",
       "      <td>22.000000</td>\n",
       "    </tr>\n",
       "    <tr>\n",
       "      <th>50%</th>\n",
       "      <td>NaN</td>\n",
       "      <td>0.000000</td>\n",
       "      <td>0.000000</td>\n",
       "      <td>14.454200</td>\n",
       "      <td>28.000000</td>\n",
       "    </tr>\n",
       "    <tr>\n",
       "      <th>75%</th>\n",
       "      <td>NaN</td>\n",
       "      <td>1.000000</td>\n",
       "      <td>0.000000</td>\n",
       "      <td>31.000000</td>\n",
       "      <td>35.000000</td>\n",
       "    </tr>\n",
       "    <tr>\n",
       "      <th>max</th>\n",
       "      <td>80.000000</td>\n",
       "      <td>8.000000</td>\n",
       "      <td>6.000000</td>\n",
       "      <td>512.329200</td>\n",
       "      <td>80.000000</td>\n",
       "    </tr>\n",
       "  </tbody>\n",
       "</table>\n",
       "</div>"
      ],
      "text/plain": [
       "              Age  SiblingsOrSpouse  ParentsOrChildren        Fare  Age_filled\n",
       "count  714.000000        891.000000         891.000000  891.000000  891.000000\n",
       "mean    29.699118          0.523008           0.381594   32.204208   29.361582\n",
       "std     14.526497          1.102743           0.806057   49.693429   13.019697\n",
       "min      0.420000          0.000000           0.000000    0.000000    0.420000\n",
       "25%           NaN          0.000000           0.000000    7.910400   22.000000\n",
       "50%           NaN          0.000000           0.000000   14.454200   28.000000\n",
       "75%           NaN          1.000000           0.000000   31.000000   35.000000\n",
       "max     80.000000          8.000000           6.000000  512.329200   80.000000"
      ]
     },
     "execution_count": 6,
     "metadata": {},
     "output_type": "execute_result"
    }
   ],
   "source": [
    "# converting numerical to categorical\n",
    "\n",
    "train['PassengerId'] = train['PassengerId'].astype('category')\n",
    "train['Survived'] = train['Survived'].astype('category')\n",
    "train['Pclass'] = train['Pclass'].astype('category')\n",
    "\n",
    "# fill th4e missing values with median age values\n",
    "print \"median age is\", train['Age'].median()\n",
    "\n",
    "train['Age_filled'] = train['Age'].fillna(train['Age'].median())\n",
    "\n",
    "# check again \n",
    "train.describe()"
   ]
  },
  {
   "cell_type": "markdown",
   "metadata": {},
   "source": [
    "#### Quick comps on non-numerical variables"
   ]
  },
  {
   "cell_type": "code",
   "execution_count": 7,
   "metadata": {
    "collapsed": false
   },
   "outputs": [
    {
     "name": "stdout",
     "output_type": "stream",
     "text": [
      "Survived [0, 1]\n",
      "Categories (2, int64): [0, 1]\n",
      "\n",
      "Pclass [3, 1, 2]\n",
      "Categories (3, int64): [3, 1, 2]\n",
      "\n",
      "unique passengerids 891\n",
      "\n",
      "unique names 891\n",
      "\n",
      "Sex ['male' 'female']\n",
      "\n",
      "Embarked ['S' 'C' 'Q' nan]\n"
     ]
    }
   ],
   "source": [
    "# get a sense of the categorical variables\n",
    "\n",
    "print \"Survived\", train.Survived.unique()\n",
    "print\n",
    "print \"Pclass\", train.Pclass.unique()\n",
    "print\n",
    "print \"unique passengerids\", len(train.PassengerId.unique())\n",
    "print\n",
    "print \"unique names\", len(train.Name.unique())\n",
    "print\n",
    "print \"Sex\", train.Sex.unique()\n",
    "print\n",
    "print \"Embarked\", train.Embarked.unique()\n",
    "#train['Sex'].unique()"
   ]
  },
  {
   "cell_type": "markdown",
   "metadata": {},
   "source": [
    "**OBSERVATION** - Sex is male and female. let's convert this into factors for future modelling. Same for Embarked.Further, remove the nan from embarked.\n",
    "**Important** - I realised while doing some EDA that I had made Survived into categorical variable. Rather, it should be factorised. Changing this now."
   ]
  },
  {
   "cell_type": "code",
   "execution_count": 8,
   "metadata": {
    "collapsed": false
   },
   "outputs": [
    {
     "name": "stdout",
     "output_type": "stream",
     "text": [
      "factored_Sex [0 1]\n",
      "\n",
      "S      644\n",
      "C      168\n",
      "Q       77\n",
      "NaN      2\n",
      "Name: Embarked, dtype: int64\n",
      "\n",
      "0    646\n",
      "1    168\n",
      "2     77\n",
      "Name: factored_Embarked, dtype: int64\n",
      "factorised_Survived [0 1]\n",
      "\n"
     ]
    }
   ],
   "source": [
    "# factorising sex\n",
    "train['factored_Sex'] = pd.factorize(train['Sex'])[0]\n",
    "print \"factored_Sex\", train.factored_Sex.unique()\n",
    "print\n",
    "\n",
    "# analysing embarked values\n",
    "print train.Embarked.value_counts(dropna = False)\n",
    "print\n",
    "\n",
    "# filling the nan's with \"S\" because it seems like 72% of folks have boarded at Southampton.\n",
    "train['Embarked'] = train.Embarked.fillna(\"S\")\n",
    "train['factored_Embarked'] = pd.factorize(train['Embarked'])[0]\n",
    "print train.factored_Embarked.value_counts(dropna = False)\n",
    "\n",
    "# factorising sex\n",
    "train['Survived'] = pd.factorize(train['Survived'])[0]\n",
    "print \"factorised_Survived\", train.Survived.unique()\n",
    "print"
   ]
  },
  {
   "cell_type": "markdown",
   "metadata": {},
   "source": [
    "### Exploratory analysis to get some intuition\n",
    "Some intuition around the topic of Titanic (mostly through the movie and some reading)\n",
    "\n",
    "Hypotheses to be tested\n",
    "- Women and children first!\n",
    "- First class passengers survived more than third class\n",
    "- Number of siblings and parents contributed \n",
    "    - Adults with spouses or siblings survived more by virtue of helping each other\n",
    "    - Children with parents survived more than those without parents\n",
    "    - Converse to point 2, parents with children would have sacrificed and probably had lower survival rates (just a bit)\n",
    "- Where people embarked contributed to survival"
   ]
  },
  {
   "cell_type": "code",
   "execution_count": 9,
   "metadata": {
    "collapsed": false,
    "scrolled": false
   },
   "outputs": [
    {
     "data": {
      "text/html": [
       "<div>\n",
       "<table border=\"1\" class=\"dataframe\">\n",
       "  <thead>\n",
       "    <tr style=\"text-align: right;\">\n",
       "      <th></th>\n",
       "      <th>PassengerId</th>\n",
       "      <th>Survived</th>\n",
       "      <th>Pclass</th>\n",
       "      <th>Name</th>\n",
       "      <th>Sex</th>\n",
       "      <th>Age</th>\n",
       "      <th>SiblingsOrSpouse</th>\n",
       "      <th>...</th>\n",
       "      <th>Ticket</th>\n",
       "      <th>Fare</th>\n",
       "      <th>Cabin</th>\n",
       "      <th>Embarked</th>\n",
       "      <th>Age_filled</th>\n",
       "      <th>factored_Sex</th>\n",
       "      <th>factored_Embarked</th>\n",
       "    </tr>\n",
       "  </thead>\n",
       "  <tbody>\n",
       "    <tr>\n",
       "      <th>0</th>\n",
       "      <td>1</td>\n",
       "      <td>0</td>\n",
       "      <td>3</td>\n",
       "      <td>Braund, Mr. Owen Harris</td>\n",
       "      <td>male</td>\n",
       "      <td>22.0</td>\n",
       "      <td>1</td>\n",
       "      <td>...</td>\n",
       "      <td>A/5 21171</td>\n",
       "      <td>7.2500</td>\n",
       "      <td>NaN</td>\n",
       "      <td>S</td>\n",
       "      <td>22.0</td>\n",
       "      <td>0</td>\n",
       "      <td>0</td>\n",
       "    </tr>\n",
       "    <tr>\n",
       "      <th>1</th>\n",
       "      <td>2</td>\n",
       "      <td>1</td>\n",
       "      <td>1</td>\n",
       "      <td>Cumings, Mrs. John Bradley (Florence Briggs Th...</td>\n",
       "      <td>female</td>\n",
       "      <td>38.0</td>\n",
       "      <td>1</td>\n",
       "      <td>...</td>\n",
       "      <td>PC 17599</td>\n",
       "      <td>71.2833</td>\n",
       "      <td>C85</td>\n",
       "      <td>C</td>\n",
       "      <td>38.0</td>\n",
       "      <td>1</td>\n",
       "      <td>1</td>\n",
       "    </tr>\n",
       "    <tr>\n",
       "      <th>2</th>\n",
       "      <td>3</td>\n",
       "      <td>1</td>\n",
       "      <td>3</td>\n",
       "      <td>Heikkinen, Miss. Laina</td>\n",
       "      <td>female</td>\n",
       "      <td>26.0</td>\n",
       "      <td>0</td>\n",
       "      <td>...</td>\n",
       "      <td>STON/O2. 3101282</td>\n",
       "      <td>7.9250</td>\n",
       "      <td>NaN</td>\n",
       "      <td>S</td>\n",
       "      <td>26.0</td>\n",
       "      <td>1</td>\n",
       "      <td>0</td>\n",
       "    </tr>\n",
       "    <tr>\n",
       "      <th>3</th>\n",
       "      <td>4</td>\n",
       "      <td>1</td>\n",
       "      <td>1</td>\n",
       "      <td>Futrelle, Mrs. Jacques Heath (Lily May Peel)</td>\n",
       "      <td>female</td>\n",
       "      <td>35.0</td>\n",
       "      <td>1</td>\n",
       "      <td>...</td>\n",
       "      <td>113803</td>\n",
       "      <td>53.1000</td>\n",
       "      <td>C123</td>\n",
       "      <td>S</td>\n",
       "      <td>35.0</td>\n",
       "      <td>1</td>\n",
       "      <td>0</td>\n",
       "    </tr>\n",
       "    <tr>\n",
       "      <th>4</th>\n",
       "      <td>5</td>\n",
       "      <td>0</td>\n",
       "      <td>3</td>\n",
       "      <td>Allen, Mr. William Henry</td>\n",
       "      <td>male</td>\n",
       "      <td>35.0</td>\n",
       "      <td>0</td>\n",
       "      <td>...</td>\n",
       "      <td>373450</td>\n",
       "      <td>8.0500</td>\n",
       "      <td>NaN</td>\n",
       "      <td>S</td>\n",
       "      <td>35.0</td>\n",
       "      <td>0</td>\n",
       "      <td>0</td>\n",
       "    </tr>\n",
       "  </tbody>\n",
       "</table>\n",
       "<p>5 rows × 15 columns</p>\n",
       "</div>"
      ],
      "text/plain": [
       "  PassengerId  Survived Pclass  \\\n",
       "0           1         0      3   \n",
       "1           2         1      1   \n",
       "2           3         1      3   \n",
       "3           4         1      1   \n",
       "4           5         0      3   \n",
       "\n",
       "                                                Name     Sex   Age  \\\n",
       "0                            Braund, Mr. Owen Harris    male  22.0   \n",
       "1  Cumings, Mrs. John Bradley (Florence Briggs Th...  female  38.0   \n",
       "2                             Heikkinen, Miss. Laina  female  26.0   \n",
       "3       Futrelle, Mrs. Jacques Heath (Lily May Peel)  female  35.0   \n",
       "4                           Allen, Mr. William Henry    male  35.0   \n",
       "\n",
       "   SiblingsOrSpouse        ...                    Ticket     Fare  Cabin  \\\n",
       "0                 1        ...                 A/5 21171   7.2500    NaN   \n",
       "1                 1        ...                  PC 17599  71.2833    C85   \n",
       "2                 0        ...          STON/O2. 3101282   7.9250    NaN   \n",
       "3                 1        ...                    113803  53.1000   C123   \n",
       "4                 0        ...                    373450   8.0500    NaN   \n",
       "\n",
       "  Embarked Age_filled  factored_Sex  factored_Embarked  \n",
       "0        S       22.0             0                  0  \n",
       "1        C       38.0             1                  1  \n",
       "2        S       26.0             1                  0  \n",
       "3        S       35.0             1                  0  \n",
       "4        S       35.0             0                  0  \n",
       "\n",
       "[5 rows x 15 columns]"
      ]
     },
     "execution_count": 9,
     "metadata": {},
     "output_type": "execute_result"
    }
   ],
   "source": [
    "# redrawing different columns in the titanic dataset\n",
    "pd.set_option('display.max_columns', 14)\n",
    "train.head(5)"
   ]
  },
  {
   "cell_type": "markdown",
   "metadata": {},
   "source": [
    "**1. How many people survived**"
   ]
  },
  {
   "cell_type": "code",
   "execution_count": 10,
   "metadata": {
    "collapsed": false
   },
   "outputs": [
    {
     "data": {
      "text/plain": [
       "<matplotlib.axes._subplots.AxesSubplot at 0x10dc8f1d0>"
      ]
     },
     "execution_count": 10,
     "metadata": {},
     "output_type": "execute_result"
    },
    {
     "data": {
      "image/png": "[encoded data removed]",
      "text/plain": [
       "<matplotlib.figure.Figure at 0x10dc8f5d0>"
      ]
     },
     "metadata": {},
     "output_type": "display_data"
    }
   ],
   "source": [
    "# normalising to get percentages\n",
    "train.Survived.value_counts(normalize=True).plot(kind='bar',\n",
    "                                  title=\"Survival counts\",\n",
    "                                  color='orange',\n",
    "                                  align='center')"
   ]
  },
  {
   "cell_type": "markdown",
   "metadata": {},
   "source": [
    "**TO DO** - get the y-ticks working in order to display %s accurately. Also, rename x-axis to Survived and Didn't survive. "
   ]
  },
  {
   "cell_type": "markdown",
   "metadata": {},
   "source": [
    "**2. How many people in different classes? and how did their survival chances differ?**"
   ]
  },
  {
   "cell_type": "code",
   "execution_count": 11,
   "metadata": {
    "collapsed": false
   },
   "outputs": [
    {
     "data": {
      "text/plain": [
       "<matplotlib.text.Text at 0x11069ea50>"
      ]
     },
     "execution_count": 11,
     "metadata": {},
     "output_type": "execute_result"
    },
    {
     "data": {
      "image/png": "[encoded data removed]",
      "text/plain": [
       "<matplotlib.figure.Figure at 0x110179850>"
      ]
     },
     "metadata": {},
     "output_type": "display_data"
    }
   ],
   "source": [
    "survived_pclass = train.groupby('Pclass')['Survived'].value_counts().unstack()\n",
    "fig = survived_pclass.plot(kind = 'bar',\n",
    "                     stacked=True,\n",
    "                    title = 'Survival by passenger class'\n",
    "#                    color=('maroon','green')\n",
    "                    )\n",
    "fig.set_ylabel(\"Passenger counts\")"
   ]
  },
  {
   "cell_type": "markdown",
   "metadata": {},
   "source": [
    "**Observations** - Third class has a ridiculously large number of people, but very poor survival rate. First and second class passengers were roughly 25% each, but while 2nd class passengers have 50% survival rate, first class passengers have ~70% survival chance.\n",
    "\n",
    "**TO DO** - convert to percentage and show % labels for each group split."
   ]
  },
  {
   "cell_type": "markdown",
   "metadata": {},
   "source": [
    "**3. Similar plots for Sex and embarked **"
   ]
  },
  {
   "cell_type": "code",
   "execution_count": 12,
   "metadata": {
    "collapsed": false,
    "scrolled": true
   },
   "outputs": [
    {
     "data": {
      "text/plain": [
       "<matplotlib.text.Text at 0x1109916d0>"
      ]
     },
     "execution_count": 12,
     "metadata": {},
     "output_type": "execute_result"
    },
    {
     "data": {
      "image/png": "[encoded data removed]",
      "text/plain": [
       "<matplotlib.figure.Figure at 0x11079cd10>"
      ]
     },
     "metadata": {},
     "output_type": "display_data"
    }
   ],
   "source": [
    "# smaller plots\n",
    "fig, axs = plt.subplots(1,2,figsize=(16,8)) \n",
    "\n",
    "# plot embarked\n",
    "fig1 = train.groupby('Embarked')['Survived'].value_counts().unstack().plot(kind = 'barh',\n",
    "                                                                        stacked=True,\n",
    "                                                                        title = 'Survival by Embarked',\n",
    "                                                                        color = ('k','aquamarine'),\n",
    "                                                                        ax = axs[0]\n",
    "                                                                        )\n",
    "fig1.set_xlabel(\"Passenger counts\")\n",
    "\n",
    "# plot sex\n",
    "fig2 = train.groupby('Sex')['Survived'].value_counts().unstack().plot(kind = 'barh',\n",
    "                                                                        stacked=True,\n",
    "                                                                        title = 'Survival by Sex',\n",
    "                                                                        color = ('brown','green'),\n",
    "                                                                        ax = axs[1]\n",
    "                                                                        )\n",
    "fig2.set_xlabel(\"Passenger counts\")"
   ]
  },
  {
   "cell_type": "markdown",
   "metadata": {},
   "source": [
    "*Embarked* - most people embarked on their voyage from Southampton\n",
    "           - Cherbrook has more survived than others\n",
    "           - Very few people boarded Queenstown\n",
    "*Sex*      - gender clearly contributed with women having a much higher survival chance than men."
   ]
  },
  {
   "cell_type": "markdown",
   "metadata": {},
   "source": [
    "**TO DO** - label percentages and also test age  to settle the women and children first hypothesis.\n",
    "\n",
    "**ALSO DO** - I just read wiki that the third class passengers were boarded first in Southampton. So they'd be on the lower decks, while the first and second class passengers would be at the top. This could explain why third class had lower survival than first and second. Perhaps its good to see how class and deck are correlated, and then create a separate feature mixing the two."
   ]
  },
  {
   "cell_type": "markdown",
   "metadata": {},
   "source": [
    "**3.5 Another method to combine each of these features (Sex, Class and Embarked) to get a visual rep of survival - use crosstab**"
   ]
  },
  {
   "cell_type": "code",
   "execution_count": 13,
   "metadata": {
    "collapsed": false
   },
   "outputs": [
    {
     "data": {
      "text/plain": [
       "<matplotlib.figure.Figure at 0x1106b03d0>"
      ]
     },
     "metadata": {},
     "output_type": "display_data"
    },
    {
     "data": {
      "image/png": "[encoded data removed]",
      "text/plain": [
       "<matplotlib.figure.Figure at 0x110a75f90>"
      ]
     },
     "metadata": {},
     "output_type": "display_data"
    }
   ],
   "source": [
    "fig = plt.figure(figsize=(16, 8)) \n",
    "#survival = pd.crosstab([train.Sex, train.Pclass, train.Embarked], train.Survived.astype(bool))\n",
    "survival = pd.crosstab([train.Sex, train.Pclass, train.Embarked], train.Survived.astype(bool))\n",
    "survival.plot(kind='bar', color = (\"#e74c3c\", \"#2ecc71\"), stacked=True, grid=True)\n",
    "# these colours belong to the seaborn template for a mild green and red.\n",
    "\n",
    "# the parameter figsize was not changing the size of the plot. i realised that was because the crosstab function had made this\n",
    "# into a subplot. the code below changes the dimensions of the subplot w.r.t. how much of the figsize it uses.\n",
    "# Now, all of these are percents of the image height/width. The margins are sort of like CSS-style margins, only relative to \n",
    "# the bottom left corner. In other words, right=.99 means that the right margin is 1% away from the right edge.\n",
    "plt.subplots_adjust(bottom=0, left=.01, right=.99, top=.90, hspace=.35)"
   ]
  },
  {
   "cell_type": "markdown",
   "metadata": {},
   "source": [
    "This figure clearly shows that being a woman increases chances of survival far more than class or point of embarkation. First class passengers also have a big edge in survival, but mainly for the women. "
   ]
  },
  {
   "cell_type": "markdown",
   "metadata": {},
   "source": [
    "**4. We saw previously that median age is 28. Check what is the age distribution of the passengers**"
   ]
  },
  {
   "cell_type": "code",
   "execution_count": 14,
   "metadata": {
    "collapsed": false
   },
   "outputs": [
    {
     "data": {
      "text/plain": [
       "(array([ 40.,  14.,  15.,  31.,  79.,  98.,  85.,  84.,  73.,  45.,  35.,\n",
       "         35.,  29.,  16.,  13.,  11.,   4.,   5.,   1.,   1.]),\n",
       " array([  0.42 ,   4.399,   8.378,  12.357,  16.336,  20.315,  24.294,\n",
       "         28.273,  32.252,  36.231,  40.21 ,  44.189,  48.168,  52.147,\n",
       "         56.126,  60.105,  64.084,  68.063,  72.042,  76.021,  80.   ]),\n",
       " <a list of 20 Patch objects>)"
      ]
     },
     "execution_count": 14,
     "metadata": {},
     "output_type": "execute_result"
    },
    {
     "data": {
      "image/png": "[encoded data removed]",
      "text/plain": [
       "<matplotlib.figure.Figure at 0x111329850>"
      ]
     },
     "metadata": {},
     "output_type": "display_data"
    }
   ],
   "source": [
    "# age distribution\n",
    "plt.figure(figsize=(16,8))\n",
    "plt.hist(train['Age'],bins=20,range = (train['Age'].min(),train['Age'].max()))"
   ]
  },
  {
   "cell_type": "markdown",
   "metadata": {},
   "source": [
    "most of the people seem to be young adults. We'll use the \"age_filled\" column for predictions, but rather using age for EDA. Lot of people seem to be in the early 20s. But we need to be cognisant of the fact that in those days, kids became adults earlier than 18-20."
   ]
  },
  {
   "cell_type": "markdown",
   "metadata": {},
   "source": [
    "**5. How did age contribute to survival? **\n",
    "\n",
    "1. Firstly, we create age bins\n",
    "2. Then plot a histogram of the age bins\n",
    "3. Plot survival % against each age bin"
   ]
  },
  {
   "cell_type": "code",
   "execution_count": 15,
   "metadata": {
    "collapsed": false
   },
   "outputs": [],
   "source": [
    "# create 10 year age bins\n",
    "# 1. round the ages to make it consistent\n",
    "train['Age_rounded'] = np.round(train['Age'], -1)\n",
    "\n",
    "# 2. create a dict for age bins\n",
    "age_bins_dict =    {0  : 'Less than 5',\n",
    "                    10 : 'Between 5 and 15',\n",
    "                    20 : 'Between 15 and 25',\n",
    "                    30 : 'Between 25 and 35',\n",
    "                    40 : 'Between 35 and 45',\n",
    "                    50 : 'Between 45 and 55',\n",
    "                    60 : 'Between 55 and 65',\n",
    "                    70 : 'Between 65 and 75',\n",
    "                    80 : 'Between 75 and 85'}\n",
    "\n",
    "# 3. categorise the ages into bins\n",
    "train['age_bins'] = train['Age_rounded'].map(age_bins_dict)\n",
    "\n",
    "# 4. drop columns age_bins and age_rounded because I found a more elegant way. \n",
    "#    I'm keeping this because it's a pretty decent hack for bins of size 10.\n",
    "train = train.drop('Age_rounded',axis = 1)\n",
    "train = train.drop('age_bins',axis = 1)"
   ]
  },
  {
   "cell_type": "code",
   "execution_count": 16,
   "metadata": {
    "collapsed": false
   },
   "outputs": [
    {
     "name": "stdout",
     "output_type": "stream",
     "text": [
      "[  0.42         4.60842105   8.79684211  12.98526316  17.17368421\n",
      "  21.36210526  25.55052632  29.73894737  33.92736842  38.11578947\n",
      "  42.30421053  46.49263158  50.68105263  54.86947368  59.05789474\n",
      "  63.24631579  67.43473684  71.62315789  75.81157895  80.        ]\n",
      "Survivors in this age group Age\n",
      "(0.42, 4.608]        26\n",
      "(4.608, 8.797]        9\n",
      "(8.797, 12.985]       4\n",
      "(12.985, 17.174]     21\n",
      "(17.174, 21.362]     26\n",
      "(21.362, 25.551]     37\n",
      "(25.551, 29.739]     32\n",
      "(29.739, 33.927]     34\n",
      "(33.927, 38.116]     34\n",
      "(38.116, 42.304]     19\n",
      "(42.304, 46.493]      9\n",
      "(46.493, 50.681]     16\n",
      "(50.681, 54.869]      9\n",
      "(54.869, 59.0579]     6\n",
      "(59.0579, 63.246]     6\n",
      "(63.246, 67.435]      0\n",
      "(67.435, 71.623]      0\n",
      "(71.623, 75.812]      0\n",
      "(75.812, 80]          1\n",
      "Name: Survived, dtype: int64\n",
      "Total passengers in age group Age\n",
      "(0.42, 4.608]        39\n",
      "(4.608, 8.797]       14\n",
      "(8.797, 12.985]      15\n",
      "(12.985, 17.174]     44\n",
      "(17.174, 21.362]     91\n",
      "(21.362, 25.551]     97\n",
      "(25.551, 29.739]     83\n",
      "(29.739, 33.927]     79\n",
      "(33.927, 38.116]     74\n",
      "(38.116, 42.304]     48\n",
      "(42.304, 46.493]     31\n",
      "(46.493, 50.681]     34\n",
      "(50.681, 54.869]     22\n",
      "(54.869, 59.0579]    16\n",
      "(59.0579, 63.246]    13\n",
      "(63.246, 67.435]      6\n",
      "(67.435, 71.623]      5\n",
      "(71.623, 75.812]      1\n",
      "(75.812, 80]          1\n",
      "Name: Survived, dtype: int64\n"
     ]
    }
   ],
   "source": [
    "# create age bins of size 20\n",
    "age_bins = np.linspace(train.Age.min(), train.Age.max(), 20)\n",
    "print age_bins\n",
    "\n",
    "# cut all numeric variables of the dataframe by age_bins and group them together.\n",
    "survived_by_age_input = train.groupby(pd.cut(train['Age'],age_bins))\n",
    "\n",
    "# use the groups to find summary stats\n",
    "print \"Survivors in this age group\", survived_by_age_input.sum().Survived\n",
    "print \"Total passengers in age group\", survived_by_age_input.count().Survived"
   ]
  },
  {
   "cell_type": "code",
   "execution_count": 17,
   "metadata": {
    "collapsed": false
   },
   "outputs": [
    {
     "data": {
      "text/plain": [
       "<matplotlib.legend.Legend at 0x111b9cf90>"
      ]
     },
     "execution_count": 17,
     "metadata": {},
     "output_type": "execute_result"
    },
    {
     "data": {
      "image/png": "[encoded data removed]",
      "text/plain": [
       "<matplotlib.figure.Figure at 0x111b06f10>"
      ]
     },
     "metadata": {},
     "output_type": "display_data"
    }
   ],
   "source": [
    "plt.figure(figsize=(16,8))\n",
    "ax1 = survived_by_age_input.count().Survived.plot(kind='bar',label='Total passengers in the age group')\n",
    "ax2 = survived_by_age_input.sum().Survived.plot(kind='line',sharex=True,color='r',label='Total survivors in the age group')\n",
    "plt.setp(ax1.xaxis.get_majorticklabels(), rotation=30)\n",
    "plt.legend(loc='upper right')"
   ]
  },
  {
   "cell_type": "markdown",
   "metadata": {},
   "source": [
    "**OBSERVATION ** - late teens and early 20s being the major population of the titanic is consistent. But survival numbers are not consistent because they aren't normalised. I'll keep this figure because it is good learning. \n",
    "\n",
    "However, the subsequent normalised plot for counts and survival % is more relevant. Trick is to use twinx for same axes.\n",
    "\n",
    "**Note:** 177 ages are missing, and we are using the unfilled ages for exploration. So we're analysing < 80% of the training set."
   ]
  },
  {
   "cell_type": "code",
   "execution_count": 18,
   "metadata": {
    "collapsed": false
   },
   "outputs": [
    {
     "data": {
      "text/plain": [
       "<matplotlib.text.Text at 0x111ea8cd0>"
      ]
     },
     "execution_count": 18,
     "metadata": {},
     "output_type": "execute_result"
    },
    {
     "data": {
      "image/png": "[encoded data removed]",
      "text/plain": [
       "<matplotlib.figure.Figure at 0x1112f3210>"
      ]
     },
     "metadata": {},
     "output_type": "display_data"
    }
   ],
   "source": [
    "#print survived_by_age_input.Survived.apply(lambda x: x.sum().astype(float)/x.count().astype(float)*100)\n",
    "#print\n",
    "\n",
    "#print survived_by_age_input.Survived.apply(lambda x: x.count().astype(float)/714*100)\n",
    "\n",
    "# plot this stuff\n",
    "plt.figure(figsize=(16,8))\n",
    "ax1 = survived_by_age_input.Survived.apply(lambda x: x.count().astype(float)/714*100).plot(kind = 'bar')\n",
    "ax1.set_xlabel('Age groups')\n",
    "ax1.set_ylabel('% of total passengers')\n",
    "\n",
    "ax2 = ax1.twinx()\n",
    "ax2 = survived_by_age_input.Survived.apply(lambda x: x.sum().astype(float)/x.count().astype(float)*100).plot(kind='line', \n",
    "                                                                                                             color='r')\n",
    "plt.setp(ax1.xaxis.get_majorticklabels(), rotation=60)\n",
    "ax2.set_ylabel(\"% Survival\")\n",
    "plt.title(\"Survival pct in contrast with % total passengers by age groups \")"
   ]
  },
  {
   "cell_type": "markdown",
   "metadata": {},
   "source": [
    "**Observations** - Children up until 9 years of age seem to have a high survivability. However, 9 onwards the trend seems to be consistent with the rest of the age groups until 60 years. this makes me wonder whether it is really age that is causing the high suvivability of kids under 9 years of age, or some other confounder (ex - kids with parents vs kids without parents). so the hypothesis now is that children may have higher survivability, but not because of the women and children first hypothesis. But it could simply be that most of the young kids traveled with their parents and that their parents might have gone to various lengths to ensure the safety of their children.\n",
    "\n",
    "Phew, now on to analysing some fares."
   ]
  },
  {
   "cell_type": "code",
   "execution_count": 19,
   "metadata": {
    "collapsed": false
   },
   "outputs": [
    {
     "data": {
      "text/plain": [
       "(array([ 562.,  170.,   67.,   39.,   15.,   16.,    2.,    0.,    9.,\n",
       "           2.,    6.,    0.,    0.,    0.,    0.,    0.,    0.,    0.,\n",
       "           0.,    3.]),\n",
       " array([   0.     ,   25.61646,   51.23292,   76.84938,  102.46584,\n",
       "         128.0823 ,  153.69876,  179.31522,  204.93168,  230.54814,\n",
       "         256.1646 ,  281.78106,  307.39752,  333.01398,  358.63044,\n",
       "         384.2469 ,  409.86336,  435.47982,  461.09628,  486.71274,\n",
       "         512.3292 ]),\n",
       " <a list of 20 Patch objects>)"
      ]
     },
     "execution_count": 19,
     "metadata": {},
     "output_type": "execute_result"
    },
    {
     "data": {
      "image/png": "[encoded data removed]",
      "text/plain": [
       "<matplotlib.figure.Figure at 0x111e44590>"
      ]
     },
     "metadata": {},
     "output_type": "display_data"
    }
   ],
   "source": [
    "plt.hist(train['Fare'],bins=20)"
   ]
  },
  {
   "cell_type": "markdown",
   "metadata": {},
   "source": [
    "seems like most of the fares are less than 100. but there are a few outliers that are pretty expensive. worth splitting the fares up by 100 and looking at the fare distribution."
   ]
  },
  {
   "cell_type": "code",
   "execution_count": 20,
   "metadata": {
    "collapsed": false,
    "scrolled": true
   },
   "outputs": [
    {
     "data": {
      "text/plain": [
       "(array([ 15.,   7.,   9.,   2.,   0.,   5.,   4.,   8.,   0.,   0.,   0.,\n",
       "          0.,   0.,   0.,   0.,   0.,   0.,   0.,   0.,   3.]),\n",
       " array([ 100.     ,  120.61646,  141.23292,  161.84938,  182.46584,\n",
       "         203.0823 ,  223.69876,  244.31522,  264.93168,  285.54814,\n",
       "         306.1646 ,  326.78106,  347.39752,  368.01398,  388.63044,\n",
       "         409.2469 ,  429.86336,  450.47982,  471.09628,  491.71274,\n",
       "         512.3292 ]),\n",
       " <a list of 20 Patch objects>)"
      ]
     },
     "execution_count": 20,
     "metadata": {},
     "output_type": "execute_result"
    },
    {
     "data": {
      "image/png": "[encoded data removed]",
      "text/plain": [
       "<matplotlib.figure.Figure at 0x1107c3f10>"
      ]
     },
     "metadata": {},
     "output_type": "display_data"
    }
   ],
   "source": [
    "plt.figure(figsize=(16,8))\n",
    "plt.subplot(211)\n",
    "plt.hist(train['Fare'],bins=30,range=(train['Fare'].min(),100))\n",
    "plt.subplot(212)\n",
    "plt.hist(train['Fare'],bins=20,range=(100,train['Fare'].max()))"
   ]
  },
  {
   "cell_type": "markdown",
   "metadata": {},
   "source": [
    "so we can see one clear outlier at \\$500 but otherwise, it seems like the first class passengers paid in the 100-250 range, while the few second class people are between the 20-40 range. most of the 300-400 odd passengers seem to have paid around \\$10 and they are probably in third class. Let's test these out by introducing class as well."
   ]
  },
  {
   "cell_type": "code",
   "execution_count": 21,
   "metadata": {
    "collapsed": false
   },
   "outputs": [
    {
     "data": {
      "text/plain": [
       "<matplotlib.text.Text at 0x112ea9790>"
      ]
     },
     "execution_count": 21,
     "metadata": {},
     "output_type": "execute_result"
    },
    {
     "data": {
      "text/plain": [
       "<matplotlib.figure.Figure at 0x113656a90>"
      ]
     },
     "metadata": {},
     "output_type": "display_data"
    },
    {
     "data": {
      "image/png": "[encoded data removed]",
      "text/plain": [
       "<matplotlib.figure.Figure at 0x11313cd90>"
      ]
     },
     "metadata": {},
     "output_type": "display_data"
    }
   ],
   "source": [
    "#plt.plot(x=train['Fare'],y=train['Pclass'])\n",
    "#from pandas import DataFrame\n",
    "plt.figure(figsize=(14,7))\n",
    "df = pd.DataFrame({'Pclass':train['Pclass'], 'Fare':train['Fare']})\n",
    "df['Fare'].hist(by=df['Pclass'],color='green',figsize=(12,8),bins=20)\n",
    "plt.suptitle(\"Fare distribution by class\")"
   ]
  },
  {
   "cell_type": "markdown",
   "metadata": {},
   "source": [
    "Interesting visualisation from a learnings perspective. First, a look into the actual graphs. And second, into what I learned about python.\n",
    "- 1) Insights were correct about fares being tightly linked to class. third class passengers are mainly \\$10, while second class varies between 10-40. First class varies between 50-120, with each having a few outliers. Presence of \\$0 tickets indicates free rides or data entry issues.\n",
    "- 2) i used pandas for this because it has a really good \"group by\" feature. matplotlib allows you to input multiple data in its \"x\" variable as a n dimensional array, but the viz is pretty terrible. check how the pandas dataframe stacks up against the R dataframe.\n",
    "\n",
    "Let's see another way of seeing this in one figure - as a boxplot"
   ]
  },
  {
   "cell_type": "code",
   "execution_count": 22,
   "metadata": {
    "collapsed": false
   },
   "outputs": [
    {
     "data": {
      "image/png": "[encoded data removed]",
      "text/plain": [
       "<matplotlib.figure.Figure at 0x112e9b9d0>"
      ]
     },
     "metadata": {},
     "output_type": "display_data"
    }
   ],
   "source": [
    "# creating boxplot\n",
    "# Notes - \n",
    "# add patch_artist=True option to boxplot to get fill color\n",
    "\n",
    "fig = df.boxplot(column='Fare',return_type='axes',by='Pclass')"
   ]
  },
  {
   "cell_type": "markdown",
   "metadata": {},
   "source": [
    "## Predicting survival"
   ]
  },
  {
   "cell_type": "markdown",
   "metadata": {
    "collapsed": true
   },
   "source": [
    "#### 1. Using insights from EDA. \n",
    "\n",
    "I've learnt a few things from EDA. Let me use these to come up with my first prediction.\n",
    "\n",
    "a) Sex - if passenger is female then alive, if male then dead.\n",
    "\n",
    "b) Class - if first then alive, if third class then dead, if second then indifferent.\n",
    "\n",
    "c) Embarked - if C then alive, if S then dead, if Q then indifferent.\n",
    "\n",
    "d) Age - if passenger is less than 9 years of age, then alive, if > 60 then dead, if others then indifferent.\n",
    "\n",
    "Use this as a weighted average measure. Ideally, I'd start with a weight and then tweak it to best fit the training dataset. \n",
    "But I will be doing it only once and then moving on to the more scientific regression approach. I came up with the weights based on my EDA and my reading of the plots above.\n",
    "\n",
    "The weights I have decided are as follows - "
   ]
  },
  {
   "cell_type": "code",
   "execution_count": 23,
   "metadata": {
    "collapsed": false
   },
   "outputs": [
    {
     "data": {
      "text/html": [
       "<div>\n",
       "<table border=\"1\" class=\"dataframe\">\n",
       "  <thead>\n",
       "    <tr style=\"text-align: right;\">\n",
       "      <th></th>\n",
       "      <th>-1</th>\n",
       "      <th>0</th>\n",
       "      <th>1</th>\n",
       "      <th>Weights</th>\n",
       "    </tr>\n",
       "  </thead>\n",
       "  <tbody>\n",
       "    <tr>\n",
       "      <th>Sex</th>\n",
       "      <td></td>\n",
       "      <td>Male</td>\n",
       "      <td>Female</td>\n",
       "      <td>60%</td>\n",
       "    </tr>\n",
       "    <tr>\n",
       "      <th>Class</th>\n",
       "      <td>Third</td>\n",
       "      <td>Second</td>\n",
       "      <td>First</td>\n",
       "      <td>20%</td>\n",
       "    </tr>\n",
       "    <tr>\n",
       "      <th>Embarked</th>\n",
       "      <td>S</td>\n",
       "      <td>Q</td>\n",
       "      <td>C</td>\n",
       "      <td>10%</td>\n",
       "    </tr>\n",
       "    <tr>\n",
       "      <th>Age</th>\n",
       "      <td>Greater than 60</td>\n",
       "      <td>Any other age</td>\n",
       "      <td>Less than 9</td>\n",
       "      <td>10%</td>\n",
       "    </tr>\n",
       "  </tbody>\n",
       "</table>\n",
       "</div>"
      ],
      "text/plain": [
       "                       -1              0            1 Weights\n",
       "Sex                                 Male       Female     60%\n",
       "Class               Third         Second        First     20%\n",
       "Embarked                S              Q            C     10%\n",
       "Age       Greater than 60  Any other age  Less than 9     10%"
      ]
     },
     "execution_count": 23,
     "metadata": {},
     "output_type": "execute_result"
    }
   ],
   "source": [
    "iteration_1_weightings = pd.DataFrame({'Weights': ['60%','20%','10%','10%'],\n",
    "                                       '1': ['Female','First','C','Less than 9'],\n",
    "                                       '0': ['Male','Second','Q','Any other age'],\n",
    "                                       '-1':['','Third','S','Greater than 60'] },\n",
    "                                      index = ['Sex','Class','Embarked','Age'])\n",
    "iteration_1_weightings"
   ]
  },
  {
   "cell_type": "markdown",
   "metadata": {},
   "source": [
    "**Phew! Coming back to this after such a long time.**\n",
    "Its 14th August 2016"
   ]
  },
  {
   "cell_type": "code",
   "execution_count": 24,
   "metadata": {
    "collapsed": false
   },
   "outputs": [],
   "source": [
    "# Hmmm. Seems like pretty warped logic to me. Sex seems to be the biggest decider. And the weights seem completely\n",
    "# arbitrary. It seems much easier to simply run a classifier on it. That way, you wouldn't have to run a loop on it\n",
    "# and adjust the weights as well as the -1,0,1 weightings! Well, I'm committed to seeing this shit through, so \n",
    "# let's get to it. I'll do a hackly job and finish this step.\n",
    "\n",
    "# I've simply hard coded the constraints in this function. As a first step, the gating criteria is +0.5.\n",
    "# i.e. if sex is 'female' then i could have scored a 0.6, but if I'm in 3rd class then i lose 0.2\n",
    "# i have no idea why i've come up with so convoluted a logic.\n",
    "\n",
    "# to further improve this, i can do a test train split and get the gating criteria that has highest prediction \n",
    "# accuracy, but i'm conscious that i don't want to over-engineer this step. \n",
    "# so, i just might not improve this at all haha!\n",
    "\n",
    "def calculate_weighted_avg_survival(train_row):\n",
    "    _ =  np.where(train_row.Sex == 'male',0,1)*0.6 + \\\n",
    "         np.where(train_row.Pclass == 3,-1,np.where(train_row.Pclass == 2,0,1)) * 0.20 + \\\n",
    "         np.where(train_row.Embarked == 'S',-1,np.where(train_row.Embarked == 'Q',0,1)) * 0.10 + \\\n",
    "         np.where(train_row.Age_filled > 60,-1,np.where(train_row.Age_filled < 9,1,0)) * 0.10\n",
    "    return np.where(_ >= 0.5, 1, 0)"
   ]
  },
  {
   "cell_type": "code",
   "execution_count": 25,
   "metadata": {
    "collapsed": false
   },
   "outputs": [
    {
     "data": {
      "text/html": [
       "<div>\n",
       "<table border=\"1\" class=\"dataframe\">\n",
       "  <thead>\n",
       "    <tr style=\"text-align: right;\">\n",
       "      <th></th>\n",
       "      <th>PassengerId</th>\n",
       "      <th>Survived</th>\n",
       "      <th>Pclass</th>\n",
       "      <th>Name</th>\n",
       "      <th>Sex</th>\n",
       "      <th>Age</th>\n",
       "      <th>SiblingsOrSpouse</th>\n",
       "      <th>...</th>\n",
       "      <th>Fare</th>\n",
       "      <th>Cabin</th>\n",
       "      <th>Embarked</th>\n",
       "      <th>Age_filled</th>\n",
       "      <th>factored_Sex</th>\n",
       "      <th>factored_Embarked</th>\n",
       "      <th>Survived_pred</th>\n",
       "    </tr>\n",
       "  </thead>\n",
       "  <tbody>\n",
       "    <tr>\n",
       "      <th>0</th>\n",
       "      <td>1</td>\n",
       "      <td>0</td>\n",
       "      <td>3</td>\n",
       "      <td>Braund, Mr. Owen Harris</td>\n",
       "      <td>male</td>\n",
       "      <td>22.0</td>\n",
       "      <td>1</td>\n",
       "      <td>...</td>\n",
       "      <td>7.2500</td>\n",
       "      <td>NaN</td>\n",
       "      <td>S</td>\n",
       "      <td>22.0</td>\n",
       "      <td>0</td>\n",
       "      <td>0</td>\n",
       "      <td>0</td>\n",
       "    </tr>\n",
       "    <tr>\n",
       "      <th>1</th>\n",
       "      <td>2</td>\n",
       "      <td>1</td>\n",
       "      <td>1</td>\n",
       "      <td>Cumings, Mrs. John Bradley (Florence Briggs Th...</td>\n",
       "      <td>female</td>\n",
       "      <td>38.0</td>\n",
       "      <td>1</td>\n",
       "      <td>...</td>\n",
       "      <td>71.2833</td>\n",
       "      <td>C85</td>\n",
       "      <td>C</td>\n",
       "      <td>38.0</td>\n",
       "      <td>1</td>\n",
       "      <td>1</td>\n",
       "      <td>1</td>\n",
       "    </tr>\n",
       "    <tr>\n",
       "      <th>2</th>\n",
       "      <td>3</td>\n",
       "      <td>1</td>\n",
       "      <td>3</td>\n",
       "      <td>Heikkinen, Miss. Laina</td>\n",
       "      <td>female</td>\n",
       "      <td>26.0</td>\n",
       "      <td>0</td>\n",
       "      <td>...</td>\n",
       "      <td>7.9250</td>\n",
       "      <td>NaN</td>\n",
       "      <td>S</td>\n",
       "      <td>26.0</td>\n",
       "      <td>1</td>\n",
       "      <td>0</td>\n",
       "      <td>0</td>\n",
       "    </tr>\n",
       "  </tbody>\n",
       "</table>\n",
       "<p>3 rows × 16 columns</p>\n",
       "</div>"
      ],
      "text/plain": [
       "  PassengerId  Survived Pclass  \\\n",
       "0           1         0      3   \n",
       "1           2         1      1   \n",
       "2           3         1      3   \n",
       "\n",
       "                                                Name     Sex   Age  \\\n",
       "0                            Braund, Mr. Owen Harris    male  22.0   \n",
       "1  Cumings, Mrs. John Bradley (Florence Briggs Th...  female  38.0   \n",
       "2                             Heikkinen, Miss. Laina  female  26.0   \n",
       "\n",
       "   SiblingsOrSpouse      ...           Fare Cabin  Embarked Age_filled  \\\n",
       "0                 1      ...         7.2500   NaN         S       22.0   \n",
       "1                 1      ...        71.2833   C85         C       38.0   \n",
       "2                 0      ...         7.9250   NaN         S       26.0   \n",
       "\n",
       "  factored_Sex  factored_Embarked  Survived_pred  \n",
       "0            0                  0              0  \n",
       "1            1                  1              1  \n",
       "2            1                  0              0  \n",
       "\n",
       "[3 rows x 16 columns]"
      ]
     },
     "execution_count": 25,
     "metadata": {},
     "output_type": "execute_result"
    }
   ],
   "source": [
    "train['Survived_pred'] = train.apply(lambda x: calculate_weighted_avg_survival(x), axis = 1)\n",
    "train.head(3)"
   ]
  },
  {
   "cell_type": "code",
   "execution_count": 26,
   "metadata": {
    "collapsed": false
   },
   "outputs": [
    {
     "name": "stdout",
     "output_type": "stream",
     "text": [
      "0    549\n",
      "1    342\n",
      "Name: Survived, dtype: int64\n",
      "<type 'numpy.ndarray'>\n",
      "\n",
      "\n",
      "0    698\n",
      "1    193\n",
      "Name: Survived_pred, dtype: int64\n",
      "<type 'numpy.ndarray'>\n"
     ]
    }
   ],
   "source": [
    "# looking at the survival numbers (both fact as well as predicted) for kix...\n",
    "\n",
    "print train.Survived.value_counts()\n",
    "print type(train.Survived.as_matrix().astype(np.int))\n",
    "print \"\\n\"\n",
    "print train.Survived_pred.value_counts()\n",
    "print type(train.Survived_pred.as_matrix().astype(np.int))"
   ]
  },
  {
   "cell_type": "code",
   "execution_count": 27,
   "metadata": {
    "collapsed": false
   },
   "outputs": [
    {
     "name": "stdout",
     "output_type": "stream",
     "text": [
      "accuracy is:  0.794612794613\n",
      "\n",
      "\n",
      "confusion matrix is printed below: \n",
      "[[532  17]\n",
      " [166 176]]\n",
      "\n",
      "\n",
      "f1 score is:  0.657943925234\n"
     ]
    }
   ],
   "source": [
    "# measure accuracy of predictions\n",
    "\n",
    "# import\n",
    "from sklearn import metrics\n",
    "\n",
    "# run accuracy score\n",
    "print \"accuracy is: \",metrics.accuracy_score(train.Survived.as_matrix().astype(np.int), \n",
    "                             train.Survived_pred.as_matrix().astype(np.int))\n",
    "print \"\\n\"\n",
    "\n",
    "# run confusion matrix\n",
    "print \"confusion matrix is printed below: \"\n",
    "print metrics.confusion_matrix(train.Survived.as_matrix().astype(np.int), \n",
    "                             train.Survived_pred.as_matrix().astype(np.int))\n",
    "print \"\\n\"\n",
    "\n",
    "# run f1 score\n",
    "print \"f1 score is: \", metrics.f1_score(train.Survived.as_matrix().astype(np.int), \n",
    "                             train.Survived_pred.as_matrix().astype(np.int))"
   ]
  },
  {
   "cell_type": "markdown",
   "metadata": {},
   "source": [
    "From the looks of the confusion matrix, I think i can fiddle around with the weights, the coefficients etc and everything else for quite some time. An obvious first step is to run a loop to maximise the F1 score.\n",
    "\n",
    "But let's apply some science and actually let the machine get the right coefficient! Moving on towards more sophisticated methods of analysis."
   ]
  }
 ],
 "metadata": {
  "kernelspec": {
   "display_name": "Python 2",
   "language": "python",
   "name": "python2"
  },
  "language_info": {
   "codemirror_mode": {
    "name": "ipython",
    "version": 2
   },
   "file_extension": ".py",
   "mimetype": "text/x-python",
   "name": "python",
   "nbconvert_exporter": "python",
   "pygments_lexer": "ipython2",
   "version": "2.7.12"
  }
 },
 "nbformat": 4,
 "nbformat_minor": 0
}
