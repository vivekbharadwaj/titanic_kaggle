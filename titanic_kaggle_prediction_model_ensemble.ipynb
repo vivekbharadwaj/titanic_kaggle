{
 "cells": [
  {
   "cell_type": "markdown",
   "metadata": {},
   "source": [
    "## What I want to achieve"
   ]
  },
  {
   "cell_type": "markdown",
   "metadata": {},
   "source": [
    "Based on my current knowledge of python and machine learning, I want to be able to run an ensemble to algos to predict titanic survival. Gosh, we're still into that. I hope I dont ever have to touch this or the iris dataset in a years time...Thanks to [Bugra Akyildiz](http://bugra.github.io/work/notes/2014-11-22/an-introduction-to-supervised-learning-scikit-learn/) for a great blog on supervised learning. Check it out and weep with joy!\n",
    "\n",
    "Ok, so what do we need to do? - Binary classification of survival"
   ]
  },
  {
   "cell_type": "markdown",
   "metadata": {},
   "source": [
    "## Admin stuff"
   ]
  },
  {
   "cell_type": "code",
   "execution_count": 1,
   "metadata": {
    "collapsed": false
   },
   "outputs": [
    {
     "name": "stderr",
     "output_type": "stream",
     "text": [
      "/Users/Vivek/anaconda/envs/titanic_kaggle/lib/python2.7/site-packages/IPython/html.py:14: ShimWarning: The `IPython.html` package has been deprecated. You should import from `notebook` instead. `IPython.html.widgets` has moved to `ipywidgets`.\n",
      "  \"`IPython.html.widgets` has moved to `ipywidgets`.\", ShimWarning)\n"
     ]
    }
   ],
   "source": [
    "import matplotlib.pyplot as plt\n",
    "%matplotlib inline \n",
    "\n",
    "from IPython.display import Image\n",
    "\n",
    "import pandas as pd\n",
    "pd.set_option('display.max_columns', None) # Display any number of columns\n",
    "\n",
    "import numpy as np\n",
    "from matplotlib import pyplot\n",
    "%matplotlib inline\n",
    "\n",
    "# Set seaborn aesthetic parameters to defaults\n",
    "import seaborn as sns\n",
    "sns.set()\n",
    "\n",
    "# scikit learn packages\n",
    "import sklearn\n",
    "from sklearn import cross_validation\n",
    "from sklearn import tree\n",
    "from sklearn import svm\n",
    "from sklearn import ensemble\n",
    "from sklearn import neighbors\n",
    "from sklearn import linear_model\n",
    "from sklearn import metrics\n",
    "from sklearn import preprocessing"
   ]
  },
  {
   "cell_type": "markdown",
   "metadata": {},
   "source": [
    "## Read the training dataset"
   ]
  },
  {
   "cell_type": "code",
   "execution_count": 2,
   "metadata": {
    "collapsed": false
   },
   "outputs": [
    {
     "data": {
      "text/html": [
       "<div>\n",
       "<table border=\"1\" class=\"dataframe\">\n",
       "  <thead>\n",
       "    <tr style=\"text-align: right;\">\n",
       "      <th></th>\n",
       "      <th>PassengerId</th>\n",
       "      <th>Survived</th>\n",
       "      <th>Pclass</th>\n",
       "      <th>Name</th>\n",
       "      <th>Sex</th>\n",
       "      <th>Age</th>\n",
       "      <th>SibSp</th>\n",
       "      <th>Parch</th>\n",
       "      <th>Ticket</th>\n",
       "      <th>Fare</th>\n",
       "      <th>Cabin</th>\n",
       "      <th>Embarked</th>\n",
       "    </tr>\n",
       "  </thead>\n",
       "  <tbody>\n",
       "    <tr>\n",
       "      <th>0</th>\n",
       "      <td>1</td>\n",
       "      <td>0</td>\n",
       "      <td>3</td>\n",
       "      <td>Braund, Mr. Owen Harris</td>\n",
       "      <td>male</td>\n",
       "      <td>22.0</td>\n",
       "      <td>1</td>\n",
       "      <td>0</td>\n",
       "      <td>A/5 21171</td>\n",
       "      <td>7.2500</td>\n",
       "      <td>NaN</td>\n",
       "      <td>S</td>\n",
       "    </tr>\n",
       "    <tr>\n",
       "      <th>1</th>\n",
       "      <td>2</td>\n",
       "      <td>1</td>\n",
       "      <td>1</td>\n",
       "      <td>Cumings, Mrs. John Bradley (Florence Briggs Th...</td>\n",
       "      <td>female</td>\n",
       "      <td>38.0</td>\n",
       "      <td>1</td>\n",
       "      <td>0</td>\n",
       "      <td>PC 17599</td>\n",
       "      <td>71.2833</td>\n",
       "      <td>C85</td>\n",
       "      <td>C</td>\n",
       "    </tr>\n",
       "    <tr>\n",
       "      <th>2</th>\n",
       "      <td>3</td>\n",
       "      <td>1</td>\n",
       "      <td>3</td>\n",
       "      <td>Heikkinen, Miss. Laina</td>\n",
       "      <td>female</td>\n",
       "      <td>26.0</td>\n",
       "      <td>0</td>\n",
       "      <td>0</td>\n",
       "      <td>STON/O2. 3101282</td>\n",
       "      <td>7.9250</td>\n",
       "      <td>NaN</td>\n",
       "      <td>S</td>\n",
       "    </tr>\n",
       "  </tbody>\n",
       "</table>\n",
       "</div>"
      ],
      "text/plain": [
       "   PassengerId  Survived  Pclass  \\\n",
       "0            1         0       3   \n",
       "1            2         1       1   \n",
       "2            3         1       3   \n",
       "\n",
       "                                                Name     Sex   Age  SibSp  \\\n",
       "0                            Braund, Mr. Owen Harris    male  22.0      1   \n",
       "1  Cumings, Mrs. John Bradley (Florence Briggs Th...  female  38.0      1   \n",
       "2                             Heikkinen, Miss. Laina  female  26.0      0   \n",
       "\n",
       "   Parch            Ticket     Fare Cabin Embarked  \n",
       "0      0         A/5 21171   7.2500   NaN        S  \n",
       "1      0          PC 17599  71.2833   C85        C  \n",
       "2      0  STON/O2. 3101282   7.9250   NaN        S  "
      ]
     },
     "execution_count": 2,
     "metadata": {},
     "output_type": "execute_result"
    }
   ],
   "source": [
    "train = pd.read_csv('train.csv')\n",
    "train.head(3)"
   ]
  },
  {
   "cell_type": "markdown",
   "metadata": {},
   "source": [
    "## Data wrangling from the lessons learned during the exploratory session"
   ]
  },
  {
   "cell_type": "markdown",
   "metadata": {},
   "source": [
    "### Quick explorations"
   ]
  },
  {
   "cell_type": "code",
   "execution_count": 3,
   "metadata": {
    "collapsed": false
   },
   "outputs": [
    {
     "name": "stdout",
     "output_type": "stream",
     "text": [
      "0    549\n",
      "1    342\n",
      "Name: Survived, dtype: int64\n"
     ]
    },
    {
     "data": {
      "text/plain": [
       "0    61.616162\n",
       "1    38.383838\n",
       "Name: Survived, dtype: float64"
      ]
     },
     "execution_count": 3,
     "metadata": {},
     "output_type": "execute_result"
    }
   ],
   "source": [
    "# check the class distribution of the response variable\n",
    "print train.Survived.value_counts()\n",
    "\n",
    "train.Survived.value_counts()/train.shape[0]*100"
   ]
  },
  {
   "cell_type": "markdown",
   "metadata": {},
   "source": [
    "Almost 60:40 split. Looks cool to me. No class imbalance."
   ]
  },
  {
   "cell_type": "code",
   "execution_count": 4,
   "metadata": {
    "collapsed": false
   },
   "outputs": [
    {
     "name": "stdout",
     "output_type": "stream",
     "text": [
      "891 891\n"
     ]
    }
   ],
   "source": [
    "# quick test to see if passenger id is indeed unique and can be used as the index\n",
    "print len(train.PassengerId), len(train.PassengerId.unique())"
   ]
  },
  {
   "cell_type": "code",
   "execution_count": 5,
   "metadata": {
    "collapsed": false
   },
   "outputs": [
    {
     "name": "stdout",
     "output_type": "stream",
     "text": [
      "177\n",
      "0\n"
     ]
    }
   ],
   "source": [
    "# fill up age variable with righteous values i.e. median age\n",
    "print train.Age.isnull().sum()\n",
    "train['Age'].fillna(train['Age'].median(), inplace = True)\n",
    "print train.Age.isnull().sum()"
   ]
  },
  {
   "cell_type": "code",
   "execution_count": 6,
   "metadata": {
    "collapsed": false
   },
   "outputs": [
    {
     "name": "stdout",
     "output_type": "stream",
     "text": [
      "0\n",
      "0\n",
      "0\n",
      "2\n"
     ]
    }
   ],
   "source": [
    "# check out SibSp and Parch features\n",
    "print train.SibSp.isnull().sum()\n",
    "print train.Parch.isnull().sum()\n",
    "print train.Fare.isnull().sum()\n",
    "print train.Embarked.isnull().sum()"
   ]
  },
  {
   "cell_type": "code",
   "execution_count": 7,
   "metadata": {
    "collapsed": false
   },
   "outputs": [
    {
     "data": {
      "text/plain": [
       "count    891.000000\n",
       "mean      32.204208\n",
       "std       49.693429\n",
       "min        0.000000\n",
       "25%        7.910400\n",
       "50%       14.454200\n",
       "75%       31.000000\n",
       "max      512.329200\n",
       "Name: Fare, dtype: float64"
      ]
     },
     "execution_count": 7,
     "metadata": {},
     "output_type": "execute_result"
    }
   ],
   "source": [
    "train.Fare.describe()"
   ]
  },
  {
   "cell_type": "code",
   "execution_count": 8,
   "metadata": {
    "collapsed": false
   },
   "outputs": [
    {
     "data": {
      "text/plain": [
       "S    644\n",
       "C    168\n",
       "Q     77\n",
       "Name: Embarked, dtype: int64"
      ]
     },
     "execution_count": 8,
     "metadata": {},
     "output_type": "execute_result"
    }
   ],
   "source": [
    "train.Embarked.value_counts()\n",
    "\n",
    "# most of them seem to be from Southampton S, so encode the 2 remaining null values as 'S'"
   ]
  },
  {
   "cell_type": "code",
   "execution_count": 9,
   "metadata": {
    "collapsed": false
   },
   "outputs": [
    {
     "data": {
      "text/plain": [
       "male      64.758698\n",
       "female    35.241302\n",
       "Name: Sex, dtype: float64"
      ]
     },
     "execution_count": 9,
     "metadata": {},
     "output_type": "execute_result"
    }
   ],
   "source": [
    "train.Sex.value_counts()/len(train)*100"
   ]
  },
  {
   "cell_type": "code",
   "execution_count": 10,
   "metadata": {
    "collapsed": false
   },
   "outputs": [
    {
     "name": "stdout",
     "output_type": "stream",
     "text": [
      "687 pax dont have cabin level information\n",
      "0 pax are travelling ticketless. However,....\n",
      "210 pax are travelling on another passengers tickets.\n"
     ]
    }
   ],
   "source": [
    "# check how many rows have cabin level information\n",
    "print train.Cabin.isnull().sum(), \"pax dont have cabin level information\"\n",
    "\n",
    "# what about ticket info\n",
    "print train.Ticket.isnull().sum(), \"pax are travelling ticketless. However,....\"\n",
    "\n",
    "# however, multiple people could be travelling on the same ticket. Lets see if thats the case\n",
    "print len(train.Ticket) - len(train.Ticket.drop_duplicates()), \"pax are travelling on another passengers tickets.\""
   ]
  },
  {
   "cell_type": "markdown",
   "metadata": {},
   "source": [
    "### Create a function to do the data cleansing for us"
   ]
  },
  {
   "cell_type": "code",
   "execution_count": 11,
   "metadata": {
    "collapsed": false
   },
   "outputs": [],
   "source": [
    "def titanic_wrangling(raw_dataset):\n",
    "    \n",
    "    # convert the passengerid column into index. I've already checked that this field is unique per row.\n",
    "    clean_dataset = raw_dataset.set_index('PassengerId', drop=True)\n",
    "    \n",
    "    # there's heaps of null ages. I got this from the exploratory session in the previous workbooks. Fill with \n",
    "    # median age of the passengers\n",
    "    clean_dataset['Age'].fillna(clean_dataset['Age'].median(), inplace = True)\n",
    "    \n",
    "    # theres 2 null embarked rows. I'm coding these as 'S' fo reasons described above\n",
    "    clean_dataset['Embarked'].fillna('S', inplace = True)\n",
    "  \n",
    "    # Encode string values into discrete integers\n",
    "    #import & instantiate\n",
    "    from sklearn import preprocessing\n",
    "    label_encoder = preprocessing.LabelEncoder()\n",
    "    # fit & transform SEX variable into discrete integer values\n",
    "    clean_dataset['Sex'] = label_encoder.fit_transform(clean_dataset['Sex'])\n",
    "    # fit & transform EMBARKED variable into discrete integer values\n",
    "    clean_dataset['Embarked'] = label_encoder.fit_transform(clean_dataset['Embarked'])\n",
    "    # fit & transform TICKET variable into discrete integer values. Given 210 pax have dup tickets, this could be \n",
    "    # predictive.\n",
    "    clean_dataset['Ticket'] = label_encoder.fit_transform(clean_dataset['Ticket'])\n",
    "    \n",
    "    # Drop redundant columns from the clean dataset\n",
    "    # note that I'm removing the cabin information for now, because there is too much scope for overfitting here \n",
    "    # notice also that I'm dropping Survived because I've already created the response variable\n",
    "    clean_dataset.drop(['Name','Cabin'], axis=1, inplace=True)\n",
    "    \n",
    "    # make sure that there are no nulls in the clean dataset because numpy matrix (and consequently sklearn) can't \n",
    "    # tolerate nulls\n",
    "    assert clean_dataset.isnull().values.any() == False\n",
    "    \n",
    "    return clean_dataset"
   ]
  },
  {
   "cell_type": "markdown",
   "metadata": {},
   "source": [
    "__Future Improvement #1:__ Note here that encoding categorical features into integers has introduced implicit ordering in the Sex and Ticket variable. Strings are not inherently ordered, but integers are. We could transform these string features by creating dummy features. This can be achieved by: <br\\> a) using sklearn.preprocessing.OneHotEncoder, or <br\\> b) using the pandas method pd.get_dummies()<br\\>\n",
    "__Future Improvement #2:__ Dont impute age variable only using the median age. We can use some more smarts on this. Based on the gender, class and the salutation (Mr, Mrs, Master, Miss etc.), we can get a better sense of the ages by grouping them on these lines<br\\>\n",
    "__Future Improvement #3:__ Apply some more smarts around the family variables SibSp and Parch instead of simply putting it there. Example, children with parents surely have a much better chance of survival. So create variables such as married with spouses present, children with parents etc. kind of variables under the head family status"
   ]
  },
  {
   "cell_type": "markdown",
   "metadata": {},
   "source": [
    "### Use the data wrangling function to give us our features and labels"
   ]
  },
  {
   "cell_type": "code",
   "execution_count": 12,
   "metadata": {
    "collapsed": false
   },
   "outputs": [],
   "source": [
    "# Get the response variable from the original train dataset as a numpy matrix\n",
    "y = train['Survived'].as_matrix().astype(int)\n",
    "\n",
    "# since the response variable has already been isolated, remove this variable from the training dataset \n",
    "# so as to get it ready for further munging\n",
    "train.drop(['Survived'], axis=1, inplace=True)"
   ]
  },
  {
   "cell_type": "code",
   "execution_count": 13,
   "metadata": {
    "collapsed": false
   },
   "outputs": [],
   "source": [
    "# munge your features and convert into a numpy matrix\n",
    "df_train_cleaned = titanic_wrangling(train)\n",
    "X = df_train_cleaned.as_matrix().astype(np.float)"
   ]
  },
  {
   "cell_type": "code",
   "execution_count": 14,
   "metadata": {
    "collapsed": false
   },
   "outputs": [
    {
     "name": "stdout",
     "output_type": "stream",
     "text": [
      "(891, 8) (891,)\n"
     ]
    }
   ],
   "source": [
    "print X.shape, y.shape"
   ]
  },
  {
   "cell_type": "code",
   "execution_count": 15,
   "metadata": {
    "collapsed": false
   },
   "outputs": [
    {
     "data": {
      "text/plain": [
       "array([[   3.    ,    1.    ,   22.    , ...,  523.    ,    7.25  ,    2.    ],\n",
       "       [   1.    ,    0.    ,   38.    , ...,  596.    ,   71.2833,    0.    ],\n",
       "       [   3.    ,    0.    ,   26.    , ...,  669.    ,    7.925 ,    2.    ],\n",
       "       ..., \n",
       "       [   3.    ,    0.    ,   28.    , ...,  675.    ,   23.45  ,    2.    ],\n",
       "       [   1.    ,    1.    ,   26.    , ...,    8.    ,   30.    ,    0.    ],\n",
       "       [   3.    ,    1.    ,   32.    , ...,  466.    ,    7.75  ,    1.    ]])"
      ]
     },
     "execution_count": 15,
     "metadata": {},
     "output_type": "execute_result"
    }
   ],
   "source": [
    "X"
   ]
  },
  {
   "cell_type": "markdown",
   "metadata": {},
   "source": [
    "Looks like the features are clearly in need of some scaling and standardisation..."
   ]
  },
  {
   "cell_type": "markdown",
   "metadata": {},
   "source": [
    "### Perform scaling"
   ]
  },
  {
   "cell_type": "code",
   "execution_count": 16,
   "metadata": {
    "collapsed": false
   },
   "outputs": [
    {
     "data": {
      "text/plain": [
       "array([[ 0.82737724,  0.73769513, -0.56573646, ...,  0.91896631,\n",
       "        -0.50244517,  0.58595414],\n",
       "       [-1.56610693, -1.35557354,  0.66386103, ...,  1.28262456,\n",
       "         0.78684529, -1.9423032 ],\n",
       "       [ 0.82737724, -1.35557354, -0.25833709, ...,  1.64628282,\n",
       "        -0.48885426,  0.58595414],\n",
       "       ..., \n",
       "       [ 0.82737724, -1.35557354, -0.1046374 , ...,  1.67617254,\n",
       "        -0.17626324,  0.58595414],\n",
       "       [-1.56610693,  0.73769513, -0.25833709, ..., -1.64656796,\n",
       "        -0.04438104, -1.9423032 ],\n",
       "       [ 0.82737724,  0.73769513,  0.20276197, ...,  0.63501397,\n",
       "        -0.49237783, -0.67817453]])"
      ]
     },
     "execution_count": 16,
     "metadata": {},
     "output_type": "execute_result"
    }
   ],
   "source": [
    "from sklearn import preprocessing\n",
    "\n",
    "scaler = preprocessing.StandardScaler()\n",
    "X = scaler.fit_transform(X)\n",
    "# the standardscaler subtracts mean and divides by stdev\n",
    "\n",
    "# standardised X - this has mean 0 and stdev 1\n",
    "X"
   ]
  },
  {
   "cell_type": "markdown",
   "metadata": {},
   "source": [
    "### Cross validation"
   ]
  },
  {
   "cell_type": "code",
   "execution_count": 17,
   "metadata": {
    "collapsed": false
   },
   "outputs": [
    {
     "data": {
      "text/html": [
       "<img src=\"https://www.researchgate.net/profile/Min-Yuan_Cheng/publication/260399256/figure/fig4/ AS:297311155572744@1447895911905/Fig-4-Differential-Evolution-based-cross-validation-process.png\"/>"
      ],
      "text/plain": [
       "<IPython.core.display.Image object>"
      ]
     },
     "execution_count": 17,
     "metadata": {},
     "output_type": "execute_result"
    }
   ],
   "source": [
    "cv_url = 'https://www.researchgate.net/profile/Min-Yuan_Cheng/publication/260399256/figure/fig4/ \\\n",
    "AS:297311155572744@1447895911905/Fig-4-Differential-Evolution-based-cross-validation-process.png'\n",
    "Image(url=cv_url)\n",
    "\n",
    "# Perform cross validation because ¯\\_(ツ)_/¯"
   ]
  },
  {
   "cell_type": "code",
   "execution_count": 18,
   "metadata": {
    "collapsed": true
   },
   "outputs": [],
   "source": [
    "def stratified_cv(X, y, clf_class, shuffle=True, n_folds=10, **kwargs):\n",
    "    stratified_k_fold = cross_validation.StratifiedKFold(y, n_folds=n_folds, shuffle=shuffle)\n",
    "    y_pred = y.copy()\n",
    "    for train_index, test_index in stratified_k_fold:\n",
    "        X_train, X_test = X[train_index], X[test_index]\n",
    "        y_train = y[train_index]\n",
    "        clf = clf_class(**kwargs)\n",
    "        clf.fit(X_train,y_train)\n",
    "        y_pred[test_index] = clf.predict(X_test)\n",
    "    return y_pred"
   ]
  },
  {
   "cell_type": "markdown",
   "metadata": {},
   "source": [
    "Using stratification because there is a 60:40 class imbalance. which isn't a massive problem, but no harm in using it."
   ]
  },
  {
   "cell_type": "markdown",
   "metadata": {},
   "source": [
    "#### Run different algorithms and find accuracy score"
   ]
  },
  {
   "cell_type": "code",
   "execution_count": 19,
   "metadata": {
    "collapsed": false
   },
   "outputs": [
    {
     "name": "stdout",
     "output_type": "stream",
     "text": [
      "Passive Aggressive Classifier: 0.76\n",
      "Gradient Boosting Classifier:  0.83\n",
      "Support vector machine(SVM):   0.82\n",
      "Random Forest Classifier:      0.81\n",
      "K Nearest Neighbor Classifier: 0.79\n",
      "Logistic Regression:           0.80\n"
     ]
    }
   ],
   "source": [
    "print('Passive Aggressive Classifier: {:.2f}'.format(metrics.accuracy_score(y, stratified_cv(X, y, linear_model.PassiveAggressiveClassifier))))\n",
    "print('Gradient Boosting Classifier:  {:.2f}'.format(metrics.accuracy_score(y, stratified_cv(X, y, ensemble.GradientBoostingClassifier))))\n",
    "print('Support vector machine(SVM):   {:.2f}'.format(metrics.accuracy_score(y, stratified_cv(X, y, svm.SVC))))\n",
    "print('Random Forest Classifier:      {:.2f}'.format(metrics.accuracy_score(y, stratified_cv(X, y, ensemble.RandomForestClassifier))))\n",
    "print('K Nearest Neighbor Classifier: {:.2f}'.format(metrics.accuracy_score(y, stratified_cv(X, y, neighbors.KNeighborsClassifier))))\n",
    "print('Logistic Regression:           {:.2f}'.format(metrics.accuracy_score(y, stratified_cv(X, y, linear_model.LogisticRegression))))"
   ]
  },
  {
   "cell_type": "markdown",
   "metadata": {},
   "source": [
    "Notice how ensembles and SVM have done quite well.\n",
    "\n",
    "The dumb classifier is the name given to a naive classifier. In its most trivial case, we can say that all of them died. To make it slightly more intelligent, we can design a naive classifier where all women live, and all men don't survive.\n",
    "\n",
    "If you inspect X, you'll see that the standard scaler has reduced the sex variable to 0.73769513 for male and -1.35557354 for female. Let's use this to make a decision variable"
   ]
  },
  {
   "cell_type": "code",
   "execution_count": 20,
   "metadata": {
    "collapsed": false
   },
   "outputs": [
    {
     "name": "stdout",
     "output_type": "stream",
     "text": [
      "Dumb classifier: 0.62\n",
      "Gender classifier: 0.79\n"
     ]
    }
   ],
   "source": [
    "print('Dumb classifier: {:.2f}'.format(metrics.accuracy_score(y, [0 for index in y.tolist()])))\n",
    "print('Gender classifier: {:.2f}'.format(metrics.accuracy_score(y, [index[1]<0 for index in X])))"
   ]
  },
  {
   "cell_type": "markdown",
   "metadata": {},
   "source": [
    "You can see that most classifiers don't give a much better accuracy than simply claiming that all men died and all women survived. Confusion matrices give us a better understanding of the errors in our predictionz"
   ]
  },
  {
   "cell_type": "markdown",
   "metadata": {},
   "source": [
    "### Run confusion matrices"
   ]
  },
  {
   "cell_type": "code",
   "execution_count": 21,
   "metadata": {
    "collapsed": true
   },
   "outputs": [],
   "source": [
    "pass_agg_conf_matrix = metrics.confusion_matrix(y, stratified_cv(X, y, linear_model.PassiveAggressiveClassifier))\n",
    "grad_ens_conf_matrix = metrics.confusion_matrix(y, stratified_cv(X, y, ensemble.GradientBoostingClassifier))\n",
    "decision_conf_matrix = metrics.confusion_matrix(y, stratified_cv(X, y, tree.DecisionTreeClassifier))\n",
    "ridge_clf_conf_matrix = metrics.confusion_matrix(y, stratified_cv(X, y, linear_model.RidgeClassifier))\n",
    "svm_svc_conf_matrix = metrics.confusion_matrix(y, stratified_cv(X, y, svm.SVC))\n",
    "random_forest_conf_matrix = metrics.confusion_matrix(y, stratified_cv(X, y, ensemble.RandomForestClassifier))\n",
    "k_neighbors_conf_matrix = metrics.confusion_matrix(y, stratified_cv(X, y, neighbors.KNeighborsClassifier))\n",
    "logistic_reg_conf_matrix = metrics.confusion_matrix(y, stratified_cv(X, y, linear_model.LogisticRegression))\n",
    "gender_conf_matrix = metrics.confusion_matrix(y, [index[1]<0 for index in X]); \n",
    "dumb_conf_matrix = metrics.confusion_matrix(y, [0 for index in y.tolist()]); # ignore the warning as they are all 0\n",
    "\n",
    "\n",
    "conf_matrix = {\n",
    "                1: {\n",
    "                    'matrix': pass_agg_conf_matrix,\n",
    "                    'title': 'Passive Aggressive',\n",
    "                   },\n",
    "                2: {\n",
    "                    'matrix': grad_ens_conf_matrix,\n",
    "                    'title': 'Gradient Boosting',\n",
    "                   },\n",
    "                3: {\n",
    "                    'matrix': decision_conf_matrix,\n",
    "                    'title': 'Decision Tree',\n",
    "                   },\n",
    "                4: {\n",
    "                    'matrix': ridge_clf_conf_matrix,\n",
    "                    'title': 'Ridge',\n",
    "                   },\n",
    "                5: {\n",
    "                    'matrix': svm_svc_conf_matrix,\n",
    "                    'title': 'Support Vector Machine',\n",
    "                   },\n",
    "                6: {\n",
    "                    'matrix': random_forest_conf_matrix,\n",
    "                    'title': 'Random Forest',\n",
    "                   },\n",
    "                7: {\n",
    "                    'matrix': k_neighbors_conf_matrix,\n",
    "                    'title': 'K Nearest Neighbors',\n",
    "                   },\n",
    "                8: {\n",
    "                    'matrix': logistic_reg_conf_matrix,\n",
    "                    'title': 'Logistic Regression',\n",
    "                   },\n",
    "                9: {\n",
    "                    'matrix': gender_conf_matrix,\n",
    "                    'title': 'Gender business rule',\n",
    "                   },\n",
    "                10: {\n",
    "                    'matrix': dumb_conf_matrix,\n",
    "                    'title': 'Dumb',\n",
    "                   },\n",
    "}"
   ]
  },
  {
   "cell_type": "code",
   "execution_count": 22,
   "metadata": {
    "collapsed": false
   },
   "outputs": [
    {
     "data": {
      "image/png": "[encoded data removed]",
      "text/plain": [
       "<matplotlib.figure.Figure at 0x10ea00ed0>"
      ]
     },
     "metadata": {},
     "output_type": "display_data"
    }
   ],
   "source": [
    "fix, ax = plt.subplots(figsize=(12, 16))\n",
    "plt.suptitle('Confusion Matrix of Various Classifiers')\n",
    "for index, values in conf_matrix.items():\n",
    "    matrix = values['matrix']\n",
    "    title = values['title']\n",
    "    plt.subplot(5, 2, index) # starts from 1\n",
    "    plt.title(title);\n",
    "    sns.heatmap(matrix, annot=True,  fmt='');"
   ]
  },
  {
   "cell_type": "markdown",
   "metadata": {},
   "source": [
    "Look at f1 scores using the classification report:"
   ]
  },
  {
   "cell_type": "code",
   "execution_count": 23,
   "metadata": {
    "collapsed": false
   },
   "outputs": [
    {
     "name": "stdout",
     "output_type": "stream",
     "text": [
      "Passive Aggressive Classifier:\n",
      "              precision    recall  f1-score   support\n",
      "\n",
      "          0       0.74      0.79      0.77       549\n",
      "          1       0.62      0.56      0.59       342\n",
      "\n",
      "avg / total       0.70      0.70      0.70       891\n",
      "\n",
      "\n",
      "Gradient Boosting Classifier:\n",
      "              precision    recall  f1-score   support\n",
      "\n",
      "          0       0.84      0.90      0.87       549\n",
      "          1       0.81      0.72      0.76       342\n",
      "\n",
      "avg / total       0.83      0.83      0.83       891\n",
      "\n",
      "\n",
      "Decision Tree Classifier:\n",
      "              precision    recall  f1-score   support\n",
      "\n",
      "          0       0.85      0.83      0.84       549\n",
      "          1       0.74      0.76      0.75       342\n",
      "\n",
      "avg / total       0.81      0.80      0.81       891\n",
      "\n",
      "\n",
      "Ridge Regression Classifier:\n",
      "              precision    recall  f1-score   support\n",
      "\n",
      "          0       0.82      0.86      0.84       549\n",
      "          1       0.76      0.70      0.73       342\n",
      "\n",
      "avg / total       0.80      0.80      0.80       891\n",
      "\n",
      "\n",
      "Support vector machine(SVM):\n",
      "              precision    recall  f1-score   support\n",
      "\n",
      "          0       0.83      0.89      0.86       549\n",
      "          1       0.80      0.72      0.75       342\n",
      "\n",
      "avg / total       0.82      0.82      0.82       891\n",
      "\n",
      "\n",
      "Random Forest Classifier:\n",
      "              precision    recall  f1-score   support\n",
      "\n",
      "          0       0.84      0.90      0.87       549\n",
      "          1       0.81      0.72      0.76       342\n",
      "\n",
      "avg / total       0.83      0.83      0.83       891\n",
      "\n",
      "\n",
      "K Nearest Neighbor Classifier:\n",
      "              precision    recall  f1-score   support\n",
      "\n",
      "          0       0.83      0.85      0.84       549\n",
      "          1       0.75      0.71      0.73       342\n",
      "\n",
      "avg / total       0.80      0.80      0.80       891\n",
      "\n",
      "\n",
      "Logistic Regression:\n",
      "              precision    recall  f1-score   support\n",
      "\n",
      "          0       0.82      0.85      0.83       549\n",
      "          1       0.74      0.71      0.72       342\n",
      "\n",
      "avg / total       0.79      0.79      0.79       891\n",
      "\n",
      "\n",
      "Gender based Classifier:\n",
      "              precision    recall  f1-score   support\n",
      "\n",
      "          0       0.81      0.85      0.83       549\n",
      "          1       0.74      0.68      0.71       342\n",
      "\n",
      "avg / total       0.78      0.79      0.78       891\n",
      "\n",
      "\n",
      "Dumb Classifier:\n",
      "              precision    recall  f1-score   support\n",
      "\n",
      "          0       0.62      1.00      0.76       549\n",
      "          1       0.00      0.00      0.00       342\n",
      "\n",
      "avg / total       0.38      0.62      0.47       891\n",
      "\n",
      "\n"
     ]
    },
    {
     "name": "stderr",
     "output_type": "stream",
     "text": [
      "/Users/Vivek/anaconda/envs/titanic_kaggle/lib/python2.7/site-packages/sklearn/metrics/classification.py:1074: UndefinedMetricWarning: Precision and F-score are ill-defined and being set to 0.0 in labels with no predicted samples.\n",
      "  'precision', 'predicted', average, warn_for)\n"
     ]
    }
   ],
   "source": [
    "print('Passive Aggressive Classifier:\\n {}\\n'.format(metrics.classification_report(y, stratified_cv(X, y, linear_model.PassiveAggressiveClassifier))))\n",
    "print('Gradient Boosting Classifier:\\n {}\\n'.format(metrics.classification_report(y, stratified_cv(X, y, ensemble.GradientBoostingClassifier))))\n",
    "print('Decision Tree Classifier:\\n {}\\n'.format(metrics.classification_report(y, stratified_cv(X, y, tree.DecisionTreeClassifier))))\n",
    "print('Ridge Regression Classifier:\\n {}\\n'.format(metrics.classification_report(y, stratified_cv(X, y, linear_model.RidgeClassifier))))\n",
    "print('Support vector machine(SVM):\\n {}\\n'.format(metrics.classification_report(y, stratified_cv(X, y, svm.SVC))))\n",
    "print('Random Forest Classifier:\\n {}\\n'.format(metrics.classification_report(y, stratified_cv(X, y, ensemble.RandomForestClassifier))))\n",
    "print('K Nearest Neighbor Classifier:\\n {}\\n'.format(metrics.classification_report(y, stratified_cv(X, y, neighbors.KNeighborsClassifier))))\n",
    "print('Logistic Regression:\\n {}\\n'.format(metrics.classification_report(y, stratified_cv(X, y, linear_model.LogisticRegression))))\n",
    "print('Gender based Classifier:\\n {}\\n'.format(metrics.classification_report(y, [index[1]<0 for index in X])));\n",
    "print('Dumb Classifier:\\n {}\\n'.format(metrics.classification_report(y, [0 for index in y.tolist()]))); #ignore warnings because of all the 0s"
   ]
  },
  {
   "cell_type": "markdown",
   "metadata": {},
   "source": [
    "Using different types of model evaluation metrics, we can see that ensemble techniques like gradient boosting and random forest wins handsomely. SVM is also not far behind."
   ]
  },
  {
   "cell_type": "markdown",
   "metadata": {},
   "source": [
    "### Most important features"
   ]
  },
  {
   "cell_type": "code",
   "execution_count": 24,
   "metadata": {
    "collapsed": false
   },
   "outputs": [
    {
     "data": {
      "text/plain": [
       "GradientBoostingClassifier(init=None, learning_rate=0.1, loss='deviance',\n",
       "              max_depth=3, max_features=None, max_leaf_nodes=None,\n",
       "              min_samples_leaf=1, min_samples_split=2,\n",
       "              min_weight_fraction_leaf=0.0, n_estimators=100,\n",
       "              presort='auto', random_state=None, subsample=1.0, verbose=0,\n",
       "              warm_start=False)"
      ]
     },
     "execution_count": 24,
     "metadata": {},
     "output_type": "execute_result"
    }
   ],
   "source": [
    "gbc = ensemble.GradientBoostingClassifier()\n",
    "gbc.fit(X, y)"
   ]
  },
  {
   "cell_type": "code",
   "execution_count": 25,
   "metadata": {
    "collapsed": false
   },
   "outputs": [
    {
     "data": {
      "image/png": "[encoded data removed]",
      "text/plain": [
       "<matplotlib.figure.Figure at 0x112ce3a90>"
      ]
     },
     "metadata": {},
     "output_type": "display_data"
    }
   ],
   "source": [
    "# Get Feature Importance from the classifier\n",
    "feature_importance = gbc.feature_importances_\n",
    "# Normalize The Features\n",
    "feature_importance = 100.0 * (feature_importance / feature_importance.max())\n",
    "sorted_idx = np.argsort(feature_importance)\n",
    "pos = np.arange(sorted_idx.shape[0]) + .5\n",
    "plt.figure(figsize=(16, 12))\n",
    "plt.barh(pos, feature_importance[sorted_idx], align='center', color='#7A68A6')\n",
    "plt.yticks(pos, np.asanyarray(df_train_cleaned.columns.tolist())[sorted_idx])\n",
    "plt.xlabel('Relative Importance')\n",
    "plt.title('Variable Importance')\n",
    "plt.show()"
   ]
  },
  {
   "cell_type": "markdown",
   "metadata": {
    "collapsed": true
   },
   "source": [
    "It's illuminating that ticket, fare and age are the three most indicative variables. These variables are way too specific, and it's more than likely that we've overfit the model to training data. <br\\>\n",
    "__Future Improvement #4__: Feature engineer age groups and fare groups. Also create derived column for share_ticket.<br\\>\n",
    "__Future Improvement #5__: Create scaled polynomial features<br\\>\n",
    "__Future Improvement #6__: Alternate strategy is to test whether one-hot encoding of features is a better idea "
   ]
  },
  {
   "cell_type": "markdown",
   "metadata": {
    "collapsed": true
   },
   "source": [
    "### But for now, let's simply check the results on the test set..."
   ]
  },
  {
   "cell_type": "markdown",
   "metadata": {},
   "source": [
    "#### Read the test set"
   ]
  },
  {
   "cell_type": "code",
   "execution_count": 26,
   "metadata": {
    "collapsed": false
   },
   "outputs": [
    {
     "data": {
      "text/html": [
       "<div>\n",
       "<table border=\"1\" class=\"dataframe\">\n",
       "  <thead>\n",
       "    <tr style=\"text-align: right;\">\n",
       "      <th></th>\n",
       "      <th>PassengerId</th>\n",
       "      <th>Pclass</th>\n",
       "      <th>Name</th>\n",
       "      <th>Sex</th>\n",
       "      <th>Age</th>\n",
       "      <th>SibSp</th>\n",
       "      <th>Parch</th>\n",
       "      <th>Ticket</th>\n",
       "      <th>Fare</th>\n",
       "      <th>Cabin</th>\n",
       "      <th>Embarked</th>\n",
       "    </tr>\n",
       "  </thead>\n",
       "  <tbody>\n",
       "    <tr>\n",
       "      <th>0</th>\n",
       "      <td>892</td>\n",
       "      <td>3</td>\n",
       "      <td>Kelly, Mr. James</td>\n",
       "      <td>male</td>\n",
       "      <td>34.5</td>\n",
       "      <td>0</td>\n",
       "      <td>0</td>\n",
       "      <td>330911</td>\n",
       "      <td>7.8292</td>\n",
       "      <td>NaN</td>\n",
       "      <td>Q</td>\n",
       "    </tr>\n",
       "    <tr>\n",
       "      <th>1</th>\n",
       "      <td>893</td>\n",
       "      <td>3</td>\n",
       "      <td>Wilkes, Mrs. James (Ellen Needs)</td>\n",
       "      <td>female</td>\n",
       "      <td>47.0</td>\n",
       "      <td>1</td>\n",
       "      <td>0</td>\n",
       "      <td>363272</td>\n",
       "      <td>7.0000</td>\n",
       "      <td>NaN</td>\n",
       "      <td>S</td>\n",
       "    </tr>\n",
       "    <tr>\n",
       "      <th>2</th>\n",
       "      <td>894</td>\n",
       "      <td>2</td>\n",
       "      <td>Myles, Mr. Thomas Francis</td>\n",
       "      <td>male</td>\n",
       "      <td>62.0</td>\n",
       "      <td>0</td>\n",
       "      <td>0</td>\n",
       "      <td>240276</td>\n",
       "      <td>9.6875</td>\n",
       "      <td>NaN</td>\n",
       "      <td>Q</td>\n",
       "    </tr>\n",
       "  </tbody>\n",
       "</table>\n",
       "</div>"
      ],
      "text/plain": [
       "   PassengerId  Pclass                              Name     Sex   Age  SibSp  \\\n",
       "0          892       3                  Kelly, Mr. James    male  34.5      0   \n",
       "1          893       3  Wilkes, Mrs. James (Ellen Needs)  female  47.0      1   \n",
       "2          894       2         Myles, Mr. Thomas Francis    male  62.0      0   \n",
       "\n",
       "   Parch  Ticket    Fare Cabin Embarked  \n",
       "0      0  330911  7.8292   NaN        Q  \n",
       "1      0  363272  7.0000   NaN        S  \n",
       "2      0  240276  9.6875   NaN        Q  "
      ]
     },
     "execution_count": 26,
     "metadata": {},
     "output_type": "execute_result"
    }
   ],
   "source": [
    "test = pd.read_csv('test.csv')\n",
    "test.head(3)"
   ]
  },
  {
   "cell_type": "markdown",
   "metadata": {},
   "source": [
    "#### Perform the same data munging on the test dataset"
   ]
  },
  {
   "cell_type": "code",
   "execution_count": 27,
   "metadata": {
    "collapsed": false
   },
   "outputs": [
    {
     "ename": "AssertionError",
     "evalue": "",
     "output_type": "error",
     "traceback": [
      "\u001b[0;31m---------------------------------------------------------------------------\u001b[0m",
      "\u001b[0;31mAssertionError\u001b[0m                            Traceback (most recent call last)",
      "\u001b[0;32m<ipython-input-27-6c062c76e3ee>\u001b[0m in \u001b[0;36m<module>\u001b[0;34m()\u001b[0m\n\u001b[0;32m----> 1\u001b[0;31m \u001b[0mdf_test_cleaned\u001b[0m \u001b[0;34m=\u001b[0m \u001b[0mtitanic_wrangling\u001b[0m\u001b[0;34m(\u001b[0m\u001b[0mtest\u001b[0m\u001b[0;34m)\u001b[0m\u001b[0;34m\u001b[0m\u001b[0m\n\u001b[0m",
      "\u001b[0;32m<ipython-input-11-a5df1518328a>\u001b[0m in \u001b[0;36mtitanic_wrangling\u001b[0;34m(raw_dataset)\u001b[0m\n\u001b[1;32m     30\u001b[0m     \u001b[0;31m# make sure that there are no nulls in the clean dataset because numpy matrix (and consequently sklearn) can't\u001b[0m\u001b[0;34m\u001b[0m\u001b[0;34m\u001b[0m\u001b[0m\n\u001b[1;32m     31\u001b[0m     \u001b[0;31m# tolerate nulls\u001b[0m\u001b[0;34m\u001b[0m\u001b[0;34m\u001b[0m\u001b[0m\n\u001b[0;32m---> 32\u001b[0;31m     \u001b[0;32massert\u001b[0m \u001b[0mclean_dataset\u001b[0m\u001b[0;34m.\u001b[0m\u001b[0misnull\u001b[0m\u001b[0;34m(\u001b[0m\u001b[0;34m)\u001b[0m\u001b[0;34m.\u001b[0m\u001b[0mvalues\u001b[0m\u001b[0;34m.\u001b[0m\u001b[0many\u001b[0m\u001b[0;34m(\u001b[0m\u001b[0;34m)\u001b[0m \u001b[0;34m==\u001b[0m \u001b[0mFalse\u001b[0m\u001b[0;34m\u001b[0m\u001b[0m\n\u001b[0m\u001b[1;32m     33\u001b[0m \u001b[0;34m\u001b[0m\u001b[0m\n\u001b[1;32m     34\u001b[0m     \u001b[0;32mreturn\u001b[0m \u001b[0mclean_dataset\u001b[0m\u001b[0;34m\u001b[0m\u001b[0m\n",
      "\u001b[0;31mAssertionError\u001b[0m: "
     ]
    }
   ],
   "source": [
    "df_test_cleaned = titanic_wrangling(test)"
   ]
  },
  {
   "cell_type": "markdown",
   "metadata": {},
   "source": [
    "Notice that the test data munging returned an assertion error. This means that one or more values in X_test is null"
   ]
  },
  {
   "cell_type": "code",
   "execution_count": 28,
   "metadata": {
    "collapsed": false
   },
   "outputs": [
    {
     "data": {
      "text/plain": [
       "PassengerId      0\n",
       "Pclass           0\n",
       "Name             0\n",
       "Sex              0\n",
       "Age             86\n",
       "SibSp            0\n",
       "Parch            0\n",
       "Ticket           0\n",
       "Fare             1\n",
       "Cabin          327\n",
       "Embarked         0\n",
       "dtype: int64"
      ]
     },
     "execution_count": 28,
     "metadata": {},
     "output_type": "execute_result"
    }
   ],
   "source": [
    "# check which column has nulls, and also find out how many nulls\n",
    "test.isnull().sum()"
   ]
  },
  {
   "cell_type": "markdown",
   "metadata": {},
   "source": [
    "Our titanic_wrangling function fixes the nulls for Age. We drop the Cabin feature anyways. So \"Fare\" is the only feature where we don't handle nulls in our training function. "
   ]
  },
  {
   "cell_type": "code",
   "execution_count": 29,
   "metadata": {
    "collapsed": false
   },
   "outputs": [
    {
     "name": "stdout",
     "output_type": "stream",
     "text": [
      "the number of nulls after fixing the issue is:  PassengerId      0\n",
      "Pclass           0\n",
      "Name             0\n",
      "Sex              0\n",
      "Age             86\n",
      "SibSp            0\n",
      "Parch            0\n",
      "Ticket           0\n",
      "Fare             0\n",
      "Cabin          327\n",
      "Embarked         0\n",
      "dtype: int64\n"
     ]
    }
   ],
   "source": [
    "# there's no other way to fix null fares except to replace it with a 0\n",
    "test.Fare.fillna(0, inplace = True)\n",
    "\n",
    "print \"the number of nulls after fixing the issue is: \", test.isnull().sum()"
   ]
  },
  {
   "cell_type": "code",
   "execution_count": 30,
   "metadata": {
    "collapsed": false
   },
   "outputs": [
    {
     "name": "stdout",
     "output_type": "stream",
     "text": [
      "(418, 8)\n"
     ]
    }
   ],
   "source": [
    "df_test_cleaned = titanic_wrangling(test)\n",
    "X_t = df_test_cleaned.as_matrix().astype(np.float)\n",
    "print X_t.shape"
   ]
  },
  {
   "cell_type": "markdown",
   "metadata": {},
   "source": [
    "#### Perform scaling"
   ]
  },
  {
   "cell_type": "code",
   "execution_count": 31,
   "metadata": {
    "collapsed": false
   },
   "outputs": [
    {
     "data": {
      "text/plain": [
       "array([[ 0.87348191,  0.75592895,  0.38623105, ..., -0.26949361,\n",
       "        -0.49663711, -0.47091535],\n",
       "       [ 0.87348191, -1.32287566,  1.37137004, ...,  0.37293425,\n",
       "        -0.5114971 ,  0.70076689],\n",
       "       [-0.31581919,  0.75592895,  2.55353683, ..., -1.00502694,\n",
       "        -0.46333473, -0.47091535],\n",
       "       ..., \n",
       "       [ 0.87348191,  0.75592895,  0.70147553, ...,  1.53675282,\n",
       "        -0.50701688,  0.70076689],\n",
       "       [ 0.87348191,  0.75592895, -0.20485235, ...,  0.3636237 ,\n",
       "        -0.49268018,  0.70076689],\n",
       "       [ 0.87348191,  0.75592895, -0.20485235, ..., -0.70708939,\n",
       "        -0.23626278, -1.64259759]])"
      ]
     },
     "execution_count": 31,
     "metadata": {},
     "output_type": "execute_result"
    }
   ],
   "source": [
    "from sklearn import preprocessing\n",
    "\n",
    "scaler = preprocessing.StandardScaler()\n",
    "X_t = scaler.fit_transform(X_t)\n",
    "# the standardscaler subtracts mean and divides by stdev\n",
    "\n",
    "# standardised X_t - this has mean 0 and stdev 1\n",
    "X_t"
   ]
  },
  {
   "cell_type": "markdown",
   "metadata": {},
   "source": [
    "### Predict X_t based on the gbm model"
   ]
  },
  {
   "cell_type": "code",
   "execution_count": 32,
   "metadata": {
    "collapsed": false
   },
   "outputs": [],
   "source": [
    "# directly writing the predicted survivals to test (dataframe)\n",
    "df_test_cleaned['Survived'] = gbc.predict(X_t)"
   ]
  },
  {
   "cell_type": "code",
   "execution_count": 33,
   "metadata": {
    "collapsed": false
   },
   "outputs": [
    {
     "data": {
      "text/html": [
       "<div>\n",
       "<table border=\"1\" class=\"dataframe\">\n",
       "  <thead>\n",
       "    <tr style=\"text-align: right;\">\n",
       "      <th></th>\n",
       "      <th>Pclass</th>\n",
       "      <th>Sex</th>\n",
       "      <th>Age</th>\n",
       "      <th>SibSp</th>\n",
       "      <th>Parch</th>\n",
       "      <th>Ticket</th>\n",
       "      <th>Fare</th>\n",
       "      <th>Embarked</th>\n",
       "      <th>Survived</th>\n",
       "    </tr>\n",
       "    <tr>\n",
       "      <th>PassengerId</th>\n",
       "      <th></th>\n",
       "      <th></th>\n",
       "      <th></th>\n",
       "      <th></th>\n",
       "      <th></th>\n",
       "      <th></th>\n",
       "      <th></th>\n",
       "      <th></th>\n",
       "      <th></th>\n",
       "    </tr>\n",
       "  </thead>\n",
       "  <tbody>\n",
       "    <tr>\n",
       "      <th>892</th>\n",
       "      <td>3</td>\n",
       "      <td>1</td>\n",
       "      <td>34.5</td>\n",
       "      <td>0</td>\n",
       "      <td>0</td>\n",
       "      <td>152</td>\n",
       "      <td>7.8292</td>\n",
       "      <td>1</td>\n",
       "      <td>0</td>\n",
       "    </tr>\n",
       "    <tr>\n",
       "      <th>893</th>\n",
       "      <td>3</td>\n",
       "      <td>0</td>\n",
       "      <td>47.0</td>\n",
       "      <td>1</td>\n",
       "      <td>0</td>\n",
       "      <td>221</td>\n",
       "      <td>7.0000</td>\n",
       "      <td>2</td>\n",
       "      <td>0</td>\n",
       "    </tr>\n",
       "    <tr>\n",
       "      <th>894</th>\n",
       "      <td>2</td>\n",
       "      <td>1</td>\n",
       "      <td>62.0</td>\n",
       "      <td>0</td>\n",
       "      <td>0</td>\n",
       "      <td>73</td>\n",
       "      <td>9.6875</td>\n",
       "      <td>1</td>\n",
       "      <td>0</td>\n",
       "    </tr>\n",
       "  </tbody>\n",
       "</table>\n",
       "</div>"
      ],
      "text/plain": [
       "             Pclass  Sex   Age  SibSp  Parch  Ticket    Fare  Embarked  \\\n",
       "PassengerId                                                              \n",
       "892               3    1  34.5      0      0     152  7.8292         1   \n",
       "893               3    0  47.0      1      0     221  7.0000         2   \n",
       "894               2    1  62.0      0      0      73  9.6875         1   \n",
       "\n",
       "             Survived  \n",
       "PassengerId            \n",
       "892                 0  \n",
       "893                 0  \n",
       "894                 0  "
      ]
     },
     "execution_count": 33,
     "metadata": {},
     "output_type": "execute_result"
    }
   ],
   "source": [
    "df_test_cleaned.head(3)"
   ]
  },
  {
   "cell_type": "markdown",
   "metadata": {},
   "source": [
    "## Write to submission file"
   ]
  },
  {
   "cell_type": "code",
   "execution_count": 34,
   "metadata": {
    "collapsed": false
   },
   "outputs": [],
   "source": [
    "df_test_cleaned.to_csv('2submission_basic_munging_gbm.csv',columns = ['Survived'])"
   ]
  },
  {
   "cell_type": "markdown",
   "metadata": {},
   "source": [
    "## Assessing model performance"
   ]
  },
  {
   "cell_type": "markdown",
   "metadata": {},
   "source": [
    "### Baseline model - gender model"
   ]
  },
  {
   "cell_type": "markdown",
   "metadata": {},
   "source": [
    "I didn't code this specifically because kaggle has already provided this data to us. But I made this my first submission which will act as baseline model"
   ]
  },
  {
   "cell_type": "code",
   "execution_count": 35,
   "metadata": {
    "collapsed": false
   },
   "outputs": [
    {
     "data": {
      "text/html": [
       "<div>\n",
       "<table border=\"1\" class=\"dataframe\">\n",
       "  <thead>\n",
       "    <tr style=\"text-align: right;\">\n",
       "      <th></th>\n",
       "      <th>PassengerId</th>\n",
       "      <th>Survived</th>\n",
       "    </tr>\n",
       "  </thead>\n",
       "  <tbody>\n",
       "    <tr>\n",
       "      <th>0</th>\n",
       "      <td>892</td>\n",
       "      <td>0</td>\n",
       "    </tr>\n",
       "    <tr>\n",
       "      <th>1</th>\n",
       "      <td>893</td>\n",
       "      <td>1</td>\n",
       "    </tr>\n",
       "    <tr>\n",
       "      <th>2</th>\n",
       "      <td>894</td>\n",
       "      <td>0</td>\n",
       "    </tr>\n",
       "  </tbody>\n",
       "</table>\n",
       "</div>"
      ],
      "text/plain": [
       "   PassengerId  Survived\n",
       "0          892         0\n",
       "1          893         1\n",
       "2          894         0"
      ]
     },
     "execution_count": 35,
     "metadata": {},
     "output_type": "execute_result"
    }
   ],
   "source": [
    "firstsubmission = pd.read_csv('1submission_gendermodel.csv')\n",
    "firstsubmission.head(3)"
   ]
  },
  {
   "cell_type": "markdown",
   "metadata": {},
   "source": [
    "Submitting this got me a score of __0.76555__<br\\>\n",
    "My rank is __3823__"
   ]
  },
  {
   "cell_type": "markdown",
   "metadata": {},
   "source": [
    "### Second model - encoder+gbm model"
   ]
  },
  {
   "cell_type": "markdown",
   "metadata": {},
   "source": [
    "This is the model from our adventures so far."
   ]
  },
  {
   "cell_type": "code",
   "execution_count": 36,
   "metadata": {
    "collapsed": false
   },
   "outputs": [
    {
     "data": {
      "text/html": [
       "<div>\n",
       "<table border=\"1\" class=\"dataframe\">\n",
       "  <thead>\n",
       "    <tr style=\"text-align: right;\">\n",
       "      <th></th>\n",
       "      <th>PassengerId</th>\n",
       "      <th>Survived</th>\n",
       "    </tr>\n",
       "  </thead>\n",
       "  <tbody>\n",
       "    <tr>\n",
       "      <th>0</th>\n",
       "      <td>892</td>\n",
       "      <td>0</td>\n",
       "    </tr>\n",
       "    <tr>\n",
       "      <th>1</th>\n",
       "      <td>893</td>\n",
       "      <td>0</td>\n",
       "    </tr>\n",
       "    <tr>\n",
       "      <th>2</th>\n",
       "      <td>894</td>\n",
       "      <td>0</td>\n",
       "    </tr>\n",
       "  </tbody>\n",
       "</table>\n",
       "</div>"
      ],
      "text/plain": [
       "   PassengerId  Survived\n",
       "0          892         0\n",
       "1          893         0\n",
       "2          894         0"
      ]
     },
     "execution_count": 36,
     "metadata": {},
     "output_type": "execute_result"
    }
   ],
   "source": [
    "secondsubmission = pd.read_csv('2submission_basic_munging_gbm.csv')\n",
    "secondsubmission.head(3)"
   ]
  },
  {
   "cell_type": "markdown",
   "metadata": {},
   "source": [
    "Submitting this got me a score of __0.77033__<br\\>\n",
    "My rank is __3082__"
   ]
  }
 ],
 "metadata": {
  "kernelspec": {
   "display_name": "Python2.7_titanic_kaggle",
   "language": "python",
   "name": "titanic_kaggle"
  },
  "language_info": {
   "codemirror_mode": {
    "name": "ipython",
    "version": 2
   },
   "file_extension": ".py",
   "mimetype": "text/x-python",
   "name": "python",
   "nbconvert_exporter": "python",
   "pygments_lexer": "ipython2",
   "version": "2.7.12"
  }
 },
 "nbformat": 4,
 "nbformat_minor": 0
}
